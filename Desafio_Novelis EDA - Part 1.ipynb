{
 "cells": [
  {
   "cell_type": "code",
   "execution_count": 7,
   "metadata": {},
   "outputs": [],
   "source": [
    "import pandas as pd\n",
    "import numpy as np\n",
    "import matplotlib.pyplot as plt\n",
    "import seaborn as sns"
   ]
  },
  {
   "cell_type": "code",
   "execution_count": 8,
   "metadata": {
    "scrolled": true
   },
   "outputs": [
    {
     "data": {
      "text/html": [
       "<div>\n",
       "<style scoped>\n",
       "    .dataframe tbody tr th:only-of-type {\n",
       "        vertical-align: middle;\n",
       "    }\n",
       "\n",
       "    .dataframe tbody tr th {\n",
       "        vertical-align: top;\n",
       "    }\n",
       "\n",
       "    .dataframe thead th {\n",
       "        text-align: right;\n",
       "    }\n",
       "</style>\n",
       "<table border=\"1\" class=\"dataframe\">\n",
       "  <thead>\n",
       "    <tr style=\"text-align: right;\">\n",
       "      <th></th>\n",
       "      <th>Unnamed: 0</th>\n",
       "      <th>user_id</th>\n",
       "      <th>signup_time</th>\n",
       "      <th>purchase_time</th>\n",
       "      <th>purchase_value</th>\n",
       "      <th>device_id</th>\n",
       "      <th>source</th>\n",
       "      <th>browser</th>\n",
       "      <th>sex</th>\n",
       "      <th>age</th>\n",
       "      <th>ip_address</th>\n",
       "      <th>class</th>\n",
       "    </tr>\n",
       "  </thead>\n",
       "  <tbody>\n",
       "    <tr>\n",
       "      <th>0</th>\n",
       "      <td>149671</td>\n",
       "      <td>285108</td>\n",
       "      <td>7/15/2015 4:36</td>\n",
       "      <td>9/10/2015 14:17</td>\n",
       "      <td>31</td>\n",
       "      <td>HZAKVUFTDOSFD</td>\n",
       "      <td>Direct</td>\n",
       "      <td>Chrome</td>\n",
       "      <td>M</td>\n",
       "      <td>49</td>\n",
       "      <td>2.818400e+09</td>\n",
       "      <td>0</td>\n",
       "    </tr>\n",
       "    <tr>\n",
       "      <th>1</th>\n",
       "      <td>15611</td>\n",
       "      <td>131009</td>\n",
       "      <td>1/24/2015 12:29</td>\n",
       "      <td>4/13/2015 4:53</td>\n",
       "      <td>31</td>\n",
       "      <td>XGQAJSOUJIZCC</td>\n",
       "      <td>SEO</td>\n",
       "      <td>IE</td>\n",
       "      <td>F</td>\n",
       "      <td>21</td>\n",
       "      <td>3.251268e+09</td>\n",
       "      <td>0</td>\n",
       "    </tr>\n",
       "    <tr>\n",
       "      <th>2</th>\n",
       "      <td>73178</td>\n",
       "      <td>328855</td>\n",
       "      <td>3/11/2015 0:54</td>\n",
       "      <td>4/5/2015 12:23</td>\n",
       "      <td>16</td>\n",
       "      <td>VCCTAYDCWKZIY</td>\n",
       "      <td>Direct</td>\n",
       "      <td>IE</td>\n",
       "      <td>M</td>\n",
       "      <td>26</td>\n",
       "      <td>2.727760e+09</td>\n",
       "      <td>0</td>\n",
       "    </tr>\n",
       "    <tr>\n",
       "      <th>3</th>\n",
       "      <td>84546</td>\n",
       "      <td>229053</td>\n",
       "      <td>1/7/2015 13:19</td>\n",
       "      <td>1/9/2015 10:12</td>\n",
       "      <td>29</td>\n",
       "      <td>MFFIHYNXCJLEY</td>\n",
       "      <td>SEO</td>\n",
       "      <td>Chrome</td>\n",
       "      <td>M</td>\n",
       "      <td>34</td>\n",
       "      <td>2.083420e+09</td>\n",
       "      <td>0</td>\n",
       "    </tr>\n",
       "    <tr>\n",
       "      <th>4</th>\n",
       "      <td>35978</td>\n",
       "      <td>108439</td>\n",
       "      <td>2/8/2015 21:11</td>\n",
       "      <td>4/9/2015 14:26</td>\n",
       "      <td>26</td>\n",
       "      <td>WMSXWGVPNIFBM</td>\n",
       "      <td>Ads</td>\n",
       "      <td>FireFox</td>\n",
       "      <td>M</td>\n",
       "      <td>33</td>\n",
       "      <td>3.207913e+09</td>\n",
       "      <td>0</td>\n",
       "    </tr>\n",
       "  </tbody>\n",
       "</table>\n",
       "</div>"
      ],
      "text/plain": [
       "   Unnamed: 0  user_id      signup_time    purchase_time  purchase_value  \\\n",
       "0      149671   285108   7/15/2015 4:36  9/10/2015 14:17              31   \n",
       "1       15611   131009  1/24/2015 12:29   4/13/2015 4:53              31   \n",
       "2       73178   328855   3/11/2015 0:54   4/5/2015 12:23              16   \n",
       "3       84546   229053   1/7/2015 13:19   1/9/2015 10:12              29   \n",
       "4       35978   108439   2/8/2015 21:11   4/9/2015 14:26              26   \n",
       "\n",
       "       device_id  source  browser sex  age    ip_address  class  \n",
       "0  HZAKVUFTDOSFD  Direct   Chrome   M   49  2.818400e+09      0  \n",
       "1  XGQAJSOUJIZCC     SEO       IE   F   21  3.251268e+09      0  \n",
       "2  VCCTAYDCWKZIY  Direct       IE   M   26  2.727760e+09      0  \n",
       "3  MFFIHYNXCJLEY     SEO   Chrome   M   34  2.083420e+09      0  \n",
       "4  WMSXWGVPNIFBM     Ads  FireFox   M   33  3.207913e+09      0  "
      ]
     },
     "execution_count": 8,
     "metadata": {},
     "output_type": "execute_result"
    }
   ],
   "source": [
    "df = pd.read_csv('Candidate_tech_evaluation_candidate_copy_data science_fraud.csv')\n",
    "\n",
    "df.head(5)"
   ]
  },
  {
   "cell_type": "markdown",
   "metadata": {},
   "source": [
    "__Basic infos and basic checking of the data__"
   ]
  },
  {
   "cell_type": "code",
   "execution_count": 9,
   "metadata": {
    "scrolled": true
   },
   "outputs": [
    {
     "data": {
      "text/plain": [
       "'Unnamed: 0'"
      ]
     },
     "execution_count": 9,
     "metadata": {},
     "output_type": "execute_result"
    }
   ],
   "source": [
    "df.columns[0]"
   ]
  },
  {
   "cell_type": "code",
   "execution_count": 10,
   "metadata": {},
   "outputs": [],
   "source": [
    "# Unwanted column has to be dismissed\n",
    "df.drop(df.columns[0],axis=1,inplace=True)"
   ]
  },
  {
   "cell_type": "code",
   "execution_count": 12,
   "metadata": {},
   "outputs": [
    {
     "data": {
      "text/plain": [
       "True"
      ]
     },
     "execution_count": 12,
     "metadata": {},
     "output_type": "execute_result"
    }
   ],
   "source": [
    "# Just checking if user_id really doesn't have any duplicate\n",
    "df['user_id'].nunique() == df.shape[0]"
   ]
  },
  {
   "cell_type": "code",
   "execution_count": 13,
   "metadata": {},
   "outputs": [
    {
     "name": "stdout",
     "output_type": "stream",
     "text": [
      "<class 'pandas.core.frame.DataFrame'>\n",
      "RangeIndex: 120000 entries, 0 to 119999\n",
      "Data columns (total 11 columns):\n",
      " #   Column          Non-Null Count   Dtype  \n",
      "---  ------          --------------   -----  \n",
      " 0   user_id         120000 non-null  int64  \n",
      " 1   signup_time     120000 non-null  object \n",
      " 2   purchase_time   120000 non-null  object \n",
      " 3   purchase_value  120000 non-null  int64  \n",
      " 4   device_id       120000 non-null  object \n",
      " 5   source          120000 non-null  object \n",
      " 6   browser         120000 non-null  object \n",
      " 7   sex             120000 non-null  object \n",
      " 8   age             120000 non-null  int64  \n",
      " 9   ip_address      120000 non-null  float64\n",
      " 10  class           120000 non-null  int64  \n",
      "dtypes: float64(1), int64(4), object(6)\n",
      "memory usage: 10.1+ MB\n"
     ]
    }
   ],
   "source": [
    "df.info()"
   ]
  },
  {
   "cell_type": "code",
   "execution_count": 14,
   "metadata": {},
   "outputs": [
    {
     "data": {
      "text/plain": [
       "user_id           False\n",
       "signup_time       False\n",
       "purchase_time     False\n",
       "purchase_value    False\n",
       "device_id         False\n",
       "source            False\n",
       "browser           False\n",
       "sex               False\n",
       "age               False\n",
       "ip_address        False\n",
       "class             False\n",
       "dtype: bool"
      ]
     },
     "execution_count": 14,
     "metadata": {},
     "output_type": "execute_result"
    }
   ],
   "source": [
    "# Apparently no NaNs on the dataset, but just in case\n",
    "df.isna().any()"
   ]
  },
  {
   "cell_type": "markdown",
   "metadata": {},
   "source": [
    "Now I'm gonna check column by column"
   ]
  },
  {
   "cell_type": "markdown",
   "metadata": {},
   "source": [
    "The next column is _device_id_ , I'll check if there are no duplicates among samples"
   ]
  },
  {
   "cell_type": "code",
   "execution_count": 126,
   "metadata": {},
   "outputs": [
    {
     "data": {
      "text/plain": [
       "False"
      ]
     },
     "execution_count": 126,
     "metadata": {},
     "output_type": "execute_result"
    }
   ],
   "source": [
    "df['device_id'].nunique() == df.shape[0]"
   ]
  },
  {
   "cell_type": "markdown",
   "metadata": {},
   "source": [
    "Apparently there are some duplicates, but according to the feature description it's sort of expected and not a real problem.\n",
    "\n",
    "Since there is a column to represent the id of each sample, the _device_id_ can be eliminated in order to simplify the dataset. \n",
    "\n",
    "Moreover, will make it a lot easier to run any given ML model at the end at lower computational cost and no penalties"
   ]
  },
  {
   "cell_type": "code",
   "execution_count": 127,
   "metadata": {},
   "outputs": [],
   "source": [
    "df.drop('device_id',axis=1,inplace=True)"
   ]
  },
  {
   "cell_type": "code",
   "execution_count": 15,
   "metadata": {},
   "outputs": [
    {
     "data": {
      "text/plain": [
       "'7/15/2015 4:36'"
      ]
     },
     "execution_count": 15,
     "metadata": {},
     "output_type": "execute_result"
    }
   ],
   "source": [
    "df['signup_time'][0]"
   ]
  },
  {
   "cell_type": "code",
   "execution_count": 16,
   "metadata": {},
   "outputs": [
    {
     "data": {
      "text/plain": [
       "'9/10/2015 14:17'"
      ]
     },
     "execution_count": 16,
     "metadata": {},
     "output_type": "execute_result"
    }
   ],
   "source": [
    "df['purchase_time'][0]"
   ]
  },
  {
   "cell_type": "markdown",
   "metadata": {},
   "source": [
    "__Regarding columns that deal with time/dates__\n",
    "\n",
    "The columns dealing with time are strings and they include dates.\n",
    "\n",
    "I'm gona break _signup_time_ and _purchase_time_ columns into other columns for the years, the months, days of the month and the hours\n",
    "\n",
    "I might group the days later on this work according to the day of the week, if I find it useful"
   ]
  },
  {
   "cell_type": "code",
   "execution_count": 17,
   "metadata": {},
   "outputs": [],
   "source": [
    "df['signup_date'] = df['signup_time'].apply(lambda x: x.split(' ')[0].strip())"
   ]
  },
  {
   "cell_type": "code",
   "execution_count": 18,
   "metadata": {},
   "outputs": [],
   "source": [
    "df['signup_date_hour'] = df['signup_time'].apply(lambda x: x.split(' ')[1].strip())"
   ]
  },
  {
   "cell_type": "code",
   "execution_count": 19,
   "metadata": {},
   "outputs": [],
   "source": [
    "df['signup_date_hour'] = df['signup_date_hour'].apply(lambda x: x.split(':')[0].strip())\n",
    "\n",
    "df['signup_date_hour'] = df['signup_date_hour'].astype('int')"
   ]
  },
  {
   "cell_type": "code",
   "execution_count": 20,
   "metadata": {},
   "outputs": [
    {
     "data": {
      "text/plain": [
       "array(['4', '12', '0', '13', '21', '20', '7', '1', '16', '2', '11', '5',\n",
       "       '15', '6', '23', '17', '22', '19', '18', '14', '10', '3', '9', '8'],\n",
       "      dtype=object)"
      ]
     },
     "execution_count": 20,
     "metadata": {},
     "output_type": "execute_result"
    }
   ],
   "source": [
    "df['signup_date_hour'].unique()"
   ]
  },
  {
   "cell_type": "code",
   "execution_count": 22,
   "metadata": {},
   "outputs": [],
   "source": [
    "df['signup_date_year'] = df['signup_date'].apply(lambda x: x.split('/')[2].strip())"
   ]
  },
  {
   "cell_type": "code",
   "execution_count": 23,
   "metadata": {},
   "outputs": [],
   "source": [
    "df['signup_date_year'] = df['signup_date_year'].astype('int')"
   ]
  },
  {
   "cell_type": "code",
   "execution_count": 24,
   "metadata": {},
   "outputs": [],
   "source": [
    "df['signup_date_day'] = df['signup_date'].apply(lambda x: x.split('/')[1].strip())\n",
    "\n",
    "df['signup_date_day'] = df['signup_date_day'].astype('int')"
   ]
  },
  {
   "cell_type": "code",
   "execution_count": 26,
   "metadata": {},
   "outputs": [],
   "source": [
    "df['signup_date_month'] = df['signup_date'].apply(lambda x: x.split('/')[0].strip())\n",
    "\n",
    "df['signup_date_month'] = df['signup_date_month'].astype('int')"
   ]
  },
  {
   "cell_type": "code",
   "execution_count": 30,
   "metadata": {},
   "outputs": [
    {
     "data": {
      "text/plain": [
       "array([7, 1, 3, 2, 4, 6, 5, 8])"
      ]
     },
     "execution_count": 30,
     "metadata": {},
     "output_type": "execute_result"
    }
   ],
   "source": [
    "df['signup_date_month'].unique()"
   ]
  },
  {
   "cell_type": "code",
   "execution_count": 31,
   "metadata": {},
   "outputs": [
    {
     "data": {
      "text/plain": [
       "array([2015])"
      ]
     },
     "execution_count": 31,
     "metadata": {},
     "output_type": "execute_result"
    }
   ],
   "source": [
    "df['signup_date_year'].unique()"
   ]
  },
  {
   "cell_type": "code",
   "execution_count": 32,
   "metadata": {
    "scrolled": true
   },
   "outputs": [
    {
     "data": {
      "text/plain": [
       "array([15, 24, 11,  7,  8, 20, 30, 10,  5, 23, 12, 21, 17,  6,  2, 18, 29,\n",
       "       28, 27, 14, 26, 19,  4, 22, 13,  1,  3,  9, 16, 25, 31])"
      ]
     },
     "execution_count": 32,
     "metadata": {},
     "output_type": "execute_result"
    }
   ],
   "source": [
    "df['signup_date_day'].unique()"
   ]
  },
  {
   "cell_type": "code",
   "execution_count": 33,
   "metadata": {},
   "outputs": [
    {
     "data": {
      "text/plain": [
       "array([7, 1, 3, 2, 4, 6, 5, 8])"
      ]
     },
     "execution_count": 33,
     "metadata": {},
     "output_type": "execute_result"
    }
   ],
   "source": [
    "df['signup_date_month'].unique()"
   ]
  },
  {
   "cell_type": "markdown",
   "metadata": {},
   "source": [
    "__Breaking Purchase time column into: hour, day, month__"
   ]
  },
  {
   "cell_type": "code",
   "execution_count": 36,
   "metadata": {},
   "outputs": [
    {
     "data": {
      "text/plain": [
       "array(['14', '4', '12', '10', '20', '16', '17', '13', '21', '11', '5',\n",
       "       '1', '7', '6', '18', '0', '3', '2', '23', '22', '15', '8', '9',\n",
       "       '19'], dtype=object)"
      ]
     },
     "execution_count": 36,
     "metadata": {},
     "output_type": "execute_result"
    }
   ],
   "source": [
    "df['purchase_date_hour'] = df['purchase_time'].apply(lambda x: x.split(' ')[1].strip())\n",
    "\n",
    "df['purchase_date_hour'] = df['purchase_date_hour'].apply(lambda x: x.split(':')[0].strip())\n",
    "\n",
    "df['purchase_date_hour'].unique()"
   ]
  },
  {
   "cell_type": "code",
   "execution_count": 37,
   "metadata": {},
   "outputs": [
    {
     "data": {
      "text/plain": [
       "0         14\n",
       "1          4\n",
       "2         12\n",
       "3         10\n",
       "4         14\n",
       "          ..\n",
       "119995    22\n",
       "119996     7\n",
       "119997     4\n",
       "119998    16\n",
       "119999    13\n",
       "Name: purchase_date_hour, Length: 120000, dtype: int32"
      ]
     },
     "execution_count": 37,
     "metadata": {},
     "output_type": "execute_result"
    }
   ],
   "source": [
    "df['purchase_date_hour'] = df['purchase_date_hour'].astype('int')"
   ]
  },
  {
   "cell_type": "code",
   "execution_count": 39,
   "metadata": {},
   "outputs": [
    {
     "data": {
      "text/plain": [
       "array([14,  4, 12, 10, 20, 16, 17, 13, 21, 11,  5,  1,  7,  6, 18,  0,  3,\n",
       "        2, 23, 22, 15,  8,  9, 19])"
      ]
     },
     "execution_count": 39,
     "metadata": {},
     "output_type": "execute_result"
    }
   ],
   "source": [
    "df['purchase_date_hour'].unique()"
   ]
  },
  {
   "cell_type": "code",
   "execution_count": 40,
   "metadata": {},
   "outputs": [],
   "source": [
    "df['purchase_date'] = df['purchase_time'].apply(lambda x: x.split(' ')[0].strip())"
   ]
  },
  {
   "cell_type": "code",
   "execution_count": 41,
   "metadata": {},
   "outputs": [],
   "source": [
    "df['purchase_date_month'] = df['purchase_date'].apply(lambda x: x.split('/')[0].strip())\n",
    "\n",
    "df['purchase_date_month'] = df['purchase_date_month'].astype('int')"
   ]
  },
  {
   "cell_type": "code",
   "execution_count": 31,
   "metadata": {},
   "outputs": [
    {
     "data": {
      "text/plain": [
       "array([ 9,  4,  1,  8,  6, 10,  7,  5,  3,  2, 12, 11])"
      ]
     },
     "execution_count": 31,
     "metadata": {},
     "output_type": "execute_result"
    }
   ],
   "source": [
    "df['purchase_date_month'].unique()"
   ]
  },
  {
   "cell_type": "code",
   "execution_count": 43,
   "metadata": {},
   "outputs": [
    {
     "data": {
      "text/plain": [
       "array([10, 13,  5,  9,  3, 30, 25, 20, 12,  2, 19, 24, 26,  4, 28, 15, 16,\n",
       "       27,  6, 14, 23, 21, 22, 31,  8,  7, 11, 18, 29, 17,  1])"
      ]
     },
     "execution_count": 43,
     "metadata": {},
     "output_type": "execute_result"
    }
   ],
   "source": [
    "df['purchase_date_day'] = df['purchase_date'].apply(lambda x: x.split('/')[1].strip())\n",
    "\n",
    "df['purchase_date_day'] = df['purchase_date_day'].astype('int')\n",
    "\n",
    "df['purchase_date_day'].unique()"
   ]
  },
  {
   "cell_type": "code",
   "execution_count": 44,
   "metadata": {},
   "outputs": [
    {
     "data": {
      "text/plain": [
       "array(['2015'], dtype=object)"
      ]
     },
     "execution_count": 44,
     "metadata": {},
     "output_type": "execute_result"
    }
   ],
   "source": [
    "df['purchase_date_year'] = df['purchase_date'].apply(lambda x: x.split('/')[2].strip())\n",
    "df['purchase_date_year'].unique()"
   ]
  },
  {
   "cell_type": "markdown",
   "metadata": {},
   "source": [
    "Now I don't need _signup_time_ and _purchase_time_ in the dataset anymore\n",
    "\n",
    "Also since there is just data from one unique year (2015), I'm gonna delete the respective columns"
   ]
  },
  {
   "cell_type": "code",
   "execution_count": 45,
   "metadata": {},
   "outputs": [],
   "source": [
    "df.drop('signup_time',axis=1,inplace=True)"
   ]
  },
  {
   "cell_type": "code",
   "execution_count": 46,
   "metadata": {},
   "outputs": [],
   "source": [
    "df.drop('purchase_time',axis=1,inplace=True)"
   ]
  },
  {
   "cell_type": "code",
   "execution_count": 47,
   "metadata": {
    "scrolled": true
   },
   "outputs": [],
   "source": [
    "df.drop('purchase_date_year',axis=1,inplace=True)"
   ]
  },
  {
   "cell_type": "code",
   "execution_count": 48,
   "metadata": {},
   "outputs": [],
   "source": [
    "df.drop('signup_date_year',axis=1,inplace=True)"
   ]
  },
  {
   "cell_type": "markdown",
   "metadata": {},
   "source": [
    "__Creating datasets for both cases: fraudulent or not__\n",
    "\n",
    "__df_no_fraude and df_yes_fraude__"
   ]
  },
  {
   "cell_type": "markdown",
   "metadata": {},
   "source": [
    "Dealing with non fraudulent cases first"
   ]
  },
  {
   "cell_type": "code",
   "execution_count": 51,
   "metadata": {},
   "outputs": [],
   "source": [
    "# Creating a new dataset just for non fraudulent cases\n",
    "df_no_fraude = df[ df['class'] == 0 ].copy()\n",
    "\n",
    "df_yes_fraude = df[ df['class'] == 1 ].copy()"
   ]
  },
  {
   "cell_type": "code",
   "execution_count": null,
   "metadata": {},
   "outputs": [],
   "source": []
  },
  {
   "cell_type": "code",
   "execution_count": 58,
   "metadata": {},
   "outputs": [
    {
     "name": "stdout",
     "output_type": "stream",
     "text": [
      "108735\n",
      "11265\n",
      "Non Fraudulent to Fraudulent ratio: 9.652463382157125\n"
     ]
    }
   ],
   "source": [
    "print(df_no_fraude.shape[0])\n",
    "print(df_yes_fraude.shape[0])\n",
    "print(f'Non Fraudulent to Fraudulent ratio: {df_no_fraude.shape[0] / df_yes_fraude.shape[0]}')"
   ]
  },
  {
   "cell_type": "markdown",
   "metadata": {},
   "source": [
    "__PS:__ Classes for Non Fraudulent and Fraudulent cases are severely unbalenced.\n",
    "Later on I'm gonna make them be balenced by using SMOTE (probably)"
   ]
  },
  {
   "cell_type": "markdown",
   "metadata": {},
   "source": [
    "### __Analysis__ of _signup_date_hour_"
   ]
  },
  {
   "cell_type": "code",
   "execution_count": 59,
   "metadata": {
    "scrolled": true
   },
   "outputs": [
    {
     "data": {
      "image/png": "[encoded data removed]",
      "text/plain": [
       "<Figure size 432x288 with 1 Axes>"
      ]
     },
     "metadata": {
      "needs_background": "light"
     },
     "output_type": "display_data"
    }
   ],
   "source": [
    "# Plotting the non fraudulent cases per hour for signup feature\n",
    "df_no_fraude.groupby('signup_date_hour').count()['class'].plot();"
   ]
  },
  {
   "cell_type": "code",
   "execution_count": 60,
   "metadata": {},
   "outputs": [
    {
     "data": {
      "image/png": "[encoded data removed]",
      "text/plain": [
       "<Figure size 432x288 with 1 Axes>"
      ]
     },
     "metadata": {
      "needs_background": "light"
     },
     "output_type": "display_data"
    }
   ],
   "source": [
    "# Plotting the fraudulent cases per hour for signup feature\n",
    "df_yes_fraude.groupby('signup_date_hour').count()['class'].plot();"
   ]
  },
  {
   "cell_type": "markdown",
   "metadata": {},
   "source": [
    "From the plottings of fraudulent and non fraudulent cases it's hard to tell if there is any significative correspondence.\n",
    "Seems that around 17 hour there is a peak for both plots, but it requires further investigation"
   ]
  },
  {
   "cell_type": "code",
   "execution_count": 61,
   "metadata": {},
   "outputs": [
    {
     "data": {
      "text/plain": [
       "signup_date_hour\n",
       "17    4683\n",
       "2     4617\n",
       "8     4609\n",
       "16    4593\n",
       "1     4593\n",
       "15    4589\n",
       "18    4571\n",
       "14    4569\n",
       "3     4562\n",
       "7     4550\n",
       "20    4548\n",
       "11    4548\n",
       "0     4541\n",
       "5     4536\n",
       "13    4531\n",
       "23    4528\n",
       "19    4504\n",
       "10    4476\n",
       "21    4464\n",
       "22    4450\n",
       "4     4445\n",
       "6     4444\n",
       "12    4434\n",
       "9     4350\n",
       "Name: class, dtype: int64"
      ]
     },
     "execution_count": 61,
     "metadata": {},
     "output_type": "execute_result"
    }
   ],
   "source": [
    "# Total cases of non fraudulent class sorted by the total amount per hour\n",
    "df_no_fraude.groupby('signup_date_hour').count()['class'].sort_values(ascending=False)"
   ]
  },
  {
   "cell_type": "code",
   "execution_count": 62,
   "metadata": {},
   "outputs": [
    {
     "data": {
      "text/plain": [
       "17    4.306801\n",
       "2     4.246103\n",
       "8     4.238746\n",
       "16    4.224031\n",
       "1     4.224031\n",
       "15    4.220352\n",
       "18    4.203798\n",
       "14    4.201959\n",
       "3     4.195521\n",
       "7     4.184485\n",
       "20    4.182646\n",
       "11    4.182646\n",
       "0     4.176208\n",
       "5     4.171610\n",
       "13    4.167012\n",
       "23    4.164253\n",
       "19    4.142181\n",
       "10    4.116430\n",
       "21    4.105394\n",
       "22    4.092519\n",
       "4     4.087920\n",
       "6     4.087001\n",
       "12    4.077804\n",
       "9     4.000552\n",
       "Name: signup_date_hour, dtype: float64"
      ]
     },
     "execution_count": 62,
     "metadata": {},
     "output_type": "execute_result"
    }
   ],
   "source": [
    "# The percentage of non fraudulent cases by the hour\n",
    "df_no_fraude['signup_date_hour'].value_counts(normalize=True) * 100"
   ]
  },
  {
   "cell_type": "code",
   "execution_count": 63,
   "metadata": {},
   "outputs": [
    {
     "data": {
      "image/png": "[encoded data removed]",
      "text/plain": [
       "<Figure size 432x288 with 1 Axes>"
      ]
     },
     "metadata": {
      "needs_background": "light"
     },
     "output_type": "display_data"
    }
   ],
   "source": [
    "# Plotting the percentage of non fraudulent cases per hour\n",
    "(df_no_fraude['signup_date_hour'].value_counts(normalize=True) * 100).plot.bar();"
   ]
  },
  {
   "cell_type": "markdown",
   "metadata": {},
   "source": [
    "Since the all the cases per hour are around ~4% I'm gonna subtract 4% in order to amplify the differences"
   ]
  },
  {
   "cell_type": "code",
   "execution_count": 64,
   "metadata": {},
   "outputs": [
    {
     "data": {
      "image/png": "[encoded data removed]",
      "text/plain": [
       "<Figure size 432x288 with 1 Axes>"
      ]
     },
     "metadata": {
      "needs_background": "light"
     },
     "output_type": "display_data"
    }
   ],
   "source": [
    "dc = (df_no_fraude['signup_date_hour'].value_counts(normalize=True) * 100)\n",
    "\n",
    "dc = dc - 4\n",
    "\n",
    "dc.plot.bar();"
   ]
  },
  {
   "cell_type": "markdown",
   "metadata": {},
   "source": [
    "_We can see clearly now that there is a peak for non fraudulent cases at 17:00, followed by 2:00 with a big difference, and steadily declining afterwards_"
   ]
  },
  {
   "cell_type": "markdown",
   "metadata": {},
   "source": [
    "__Now I'm gonna explore the fraudulent cases__"
   ]
  },
  {
   "cell_type": "code",
   "execution_count": 65,
   "metadata": {},
   "outputs": [
    {
     "data": {
      "text/plain": [
       "9     4.953395\n",
       "17    4.837994\n",
       "19    4.758100\n",
       "18    4.491789\n",
       "8     4.491789\n",
       "10    4.456281\n",
       "14    4.358633\n",
       "2     4.296494\n",
       "12    4.287617\n",
       "3     4.278739\n",
       "13    4.278739\n",
       "15    4.269862\n",
       "16    4.225477\n",
       "23    4.163338\n",
       "6     4.145584\n",
       "0     4.047936\n",
       "11    3.914780\n",
       "7     3.763870\n",
       "5     3.763870\n",
       "22    3.746116\n",
       "21    3.683977\n",
       "1     3.639592\n",
       "4     3.604083\n",
       "20    3.541944\n",
       "Name: signup_date_hour, dtype: float64"
      ]
     },
     "execution_count": 65,
     "metadata": {},
     "output_type": "execute_result"
    }
   ],
   "source": [
    "df_yes_fraude['signup_date_hour'].value_counts(normalize=True) * 100"
   ]
  },
  {
   "cell_type": "code",
   "execution_count": 66,
   "metadata": {
    "scrolled": true
   },
   "outputs": [
    {
     "data": {
      "image/png": "[encoded data removed]",
      "text/plain": [
       "<Figure size 432x288 with 1 Axes>"
      ]
     },
     "metadata": {
      "needs_background": "light"
     },
     "output_type": "display_data"
    }
   ],
   "source": [
    "# Plotting the percentage of non fraudulent cases per hour\n",
    "(df_yes_fraude['signup_date_hour'].value_counts(normalize=True) * 100).plot.bar();"
   ]
  },
  {
   "cell_type": "markdown",
   "metadata": {},
   "source": [
    "Just like the non fraudulent cases, the fraudulent ones are not so easy to distinguish in pace of hours.\n",
    "But the peak seems to be 9:00 followed by 17:00, 19:00 and 18:00 with slight differences"
   ]
  },
  {
   "cell_type": "markdown",
   "metadata": {},
   "source": [
    "I'm gonna do tha same data manipulation to contrast on the plot the differences for each hour"
   ]
  },
  {
   "cell_type": "code",
   "execution_count": 67,
   "metadata": {},
   "outputs": [
    {
     "data": {
      "image/png": "[encoded data removed]",
      "text/plain": [
       "<Figure size 432x288 with 1 Axes>"
      ]
     },
     "metadata": {
      "needs_background": "light"
     },
     "output_type": "display_data"
    }
   ],
   "source": [
    "# Since all values were around ~3%, this constant will be subtracted\n",
    "dc = (df_yes_fraude['signup_date_hour'].value_counts(normalize=True) * 100)\n",
    "\n",
    "dc = dc - 3\n",
    "\n",
    "dc.plot.bar();"
   ]
  },
  {
   "cell_type": "markdown",
   "metadata": {},
   "source": [
    "_Clearly the peak of fraudulent cases is 9:00 followed by 17:00, 19:00 and 18:00 with slight differences, but then the amount of cases decay steadily for the following hours of the sequence_"
   ]
  },
  {
   "cell_type": "markdown",
   "metadata": {},
   "source": [
    "### __Analysis__ of _purchase_date_ per hour"
   ]
  },
  {
   "cell_type": "code",
   "execution_count": 68,
   "metadata": {
    "scrolled": true
   },
   "outputs": [
    {
     "data": {
      "text/plain": [
       "3     4.282890\n",
       "6     4.262657\n",
       "22    4.258978\n",
       "12    4.247942\n",
       "14    4.228629\n",
       "2     4.223111\n",
       "11    4.207477\n",
       "23    4.203798\n",
       "17    4.194602\n",
       "16    4.178967\n",
       "15    4.173449\n",
       "13    4.168851\n",
       "8     4.162413\n",
       "9     4.160574\n",
       "19    4.156895\n",
       "0     4.142181\n",
       "5     4.142181\n",
       "20    4.140341\n",
       "1     4.128386\n",
       "7     4.124707\n",
       "21    4.112751\n",
       "18    4.098037\n",
       "4     4.015266\n",
       "10    3.984917\n",
       "Name: purchase_date_hour, dtype: float64"
      ]
     },
     "execution_count": 68,
     "metadata": {},
     "output_type": "execute_result"
    }
   ],
   "source": [
    "# Percentage of non fraudulent cases\n",
    "df_no_fraude['purchase_date_hour'].value_counts(normalize=True) * 100"
   ]
  },
  {
   "cell_type": "markdown",
   "metadata": {},
   "source": [
    "Again, the differencse of amount of cases per hours is not so big\n",
    "So I'm gonna do the same manipulation to extract the real peak and to contrast the difference of ranges per hour"
   ]
  },
  {
   "cell_type": "code",
   "execution_count": 69,
   "metadata": {},
   "outputs": [
    {
     "data": {
      "image/png": "[encoded data removed]",
      "text/plain": [
       "<Figure size 432x288 with 1 Axes>"
      ]
     },
     "metadata": {
      "needs_background": "light"
     },
     "output_type": "display_data"
    }
   ],
   "source": [
    "# In order to contrast the plot the differences I'm gonna be subtracting the constant of 3 since its \n",
    "# the smallest percentage\n",
    "dc = df_no_fraude['purchase_date_hour'].value_counts(normalize=True) * 100\n",
    "\n",
    "dc = dc - 3\n",
    "\n",
    "dc.plot.bar();"
   ]
  },
  {
   "cell_type": "code",
   "execution_count": 70,
   "metadata": {},
   "outputs": [
    {
     "data": {
      "image/png": "[encoded data removed]",
      "text/plain": [
       "<Figure size 432x288 with 1 Axes>"
      ]
     },
     "metadata": {
      "needs_background": "light"
     },
     "output_type": "display_data"
    }
   ],
   "source": [
    "# In order to contrast the plot the differences I'm gonna be subtracting the constant of 3 since its \n",
    "# the smallest percentage\n",
    "dc = df_yes_fraude['purchase_date_hour'].value_counts(normalize=True) * 100\n",
    "\n",
    "dc = dc - 3\n",
    "\n",
    "dc.plot.bar();"
   ]
  },
  {
   "cell_type": "markdown",
   "metadata": {},
   "source": [
    "__Partial conclusions:__ now its clear that the hours of purchase differ from non fraudulent to fraudulent cases. There is no peak of purchase for non fraudulent cases as they gradually decay starting at 03:00 to the rest of the sequence. For fraudulent cases there is a clear peak at 17:00 relative to the rest of the sequence of hours\n",
    "\n",
    "This feature might be helpful to ML modelling later on"
   ]
  },
  {
   "cell_type": "markdown",
   "metadata": {},
   "source": [
    "__Moving foreward to avaluation of signup feature per day__"
   ]
  },
  {
   "cell_type": "markdown",
   "metadata": {},
   "source": [
    "### __Analysis__ of _purchase_date_ per day"
   ]
  },
  {
   "cell_type": "code",
   "execution_count": 71,
   "metadata": {},
   "outputs": [
    {
     "data": {
      "image/png": "[encoded data removed]",
      "text/plain": [
       "<Figure size 432x288 with 1 Axes>"
      ]
     },
     "metadata": {
      "needs_background": "light"
     },
     "output_type": "display_data"
    }
   ],
   "source": [
    "# Plotting the non fraudulent cases per hour for signup feature\n",
    "df_no_fraude.groupby('signup_date_day').count()['class'].plot();"
   ]
  },
  {
   "cell_type": "code",
   "execution_count": 72,
   "metadata": {},
   "outputs": [
    {
     "data": {
      "image/png": "[encoded data removed]",
      "text/plain": [
       "<Figure size 432x288 with 1 Axes>"
      ]
     },
     "metadata": {
      "needs_background": "light"
     },
     "output_type": "display_data"
    }
   ],
   "source": [
    "# Plotting the fraudulent cases per hour for signup feature\n",
    "df_yes_fraude.groupby('signup_date_day').count()['class'].plot();"
   ]
  },
  {
   "cell_type": "code",
   "execution_count": 73,
   "metadata": {},
   "outputs": [
    {
     "data": {
      "image/png": "[encoded data removed]",
      "text/plain": [
       "<Figure size 432x288 with 1 Axes>"
      ]
     },
     "metadata": {
      "needs_background": "light"
     },
     "output_type": "display_data"
    }
   ],
   "source": [
    "# Plotting the non fraudulent cases per hour for signup feature\n",
    "df_no_fraude.groupby('signup_date_day').count()['class'].plot();\n",
    "\n",
    "# Plotting the fraudulent cases per hour for signup feature\n",
    "df_yes_fraude.groupby('signup_date_day').count()['class'].plot();"
   ]
  },
  {
   "cell_type": "markdown",
   "metadata": {},
   "source": [
    "I'm gonna plot the two together and \"normalize\" (undersampling) the non fraudulent cases"
   ]
  },
  {
   "cell_type": "code",
   "execution_count": 74,
   "metadata": {},
   "outputs": [
    {
     "data": {
      "image/png": "[encoded data removed]",
      "text/plain": [
       "<Figure size 432x288 with 1 Axes>"
      ]
     },
     "metadata": {
      "needs_background": "light"
     },
     "output_type": "display_data"
    }
   ],
   "source": [
    "# Plotting the non fraudulent cases per hour for signup feature\n",
    "df_no_fraude.sample(frac=0.09).groupby('signup_date_day').count()['class'].plot();\n",
    "\n",
    "# Plotting the fraudulent cases per hour for signup feature\n",
    "df_yes_fraude.groupby('signup_date_day').count()['class'].plot();"
   ]
  },
  {
   "cell_type": "markdown",
   "metadata": {},
   "source": [
    "From day 15 moving foreward seems that non fraudulent and fraudulent cases have somewhat similar behavior\n",
    "\n",
    "I will now examn how this behavior expresses itself for parchases"
   ]
  },
  {
   "cell_type": "code",
   "execution_count": 76,
   "metadata": {},
   "outputs": [
    {
     "data": {
      "image/png": "[encoded data removed]",
      "text/plain": [
       "<Figure size 432x288 with 1 Axes>"
      ]
     },
     "metadata": {
      "needs_background": "light"
     },
     "output_type": "display_data"
    }
   ],
   "source": [
    "# Plotting the fraudulent cases per hour for purchase feature\n",
    "df_yes_fraude.groupby('purchase_date_day').count()['class'].plot();"
   ]
  },
  {
   "cell_type": "code",
   "execution_count": 77,
   "metadata": {},
   "outputs": [
    {
     "data": {
      "image/png": "[encoded data removed]",
      "text/plain": [
       "<Figure size 432x288 with 1 Axes>"
      ]
     },
     "metadata": {
      "needs_background": "light"
     },
     "output_type": "display_data"
    }
   ],
   "source": [
    "# Plotting the non fraudulent cases per hour for signup feature\n",
    "df_no_fraude.sample(frac=0.1).groupby('purchase_date_day').count()['class'].plot();\n",
    "\n",
    "# Plotting the fraudulent cases per hour for signup feature\n",
    "df_yes_fraude.groupby('purchase_date_day').count()['class'].plot();"
   ]
  },
  {
   "cell_type": "markdown",
   "metadata": {},
   "source": [
    "From the plottings it truly seems that fraudulent cases tend to happen in the first days of the month, from the 1st to the 2nd week of each month\n",
    "\n",
    "After that the graphics start to follow nearly the same pattern"
   ]
  },
  {
   "cell_type": "markdown",
   "metadata": {},
   "source": [
    "### __Analysis__ of _purchase_date_ per day"
   ]
  },
  {
   "cell_type": "code",
   "execution_count": 88,
   "metadata": {
    "scrolled": true
   },
   "outputs": [
    {
     "data": {
      "text/plain": [
       "26    3.411965\n",
       "20    3.377018\n",
       "18    3.368741\n",
       "28    3.353106\n",
       "13    3.350347\n",
       "23    3.333793\n",
       "19    3.331034\n",
       "9     3.323677\n",
       "5     3.319998\n",
       "27    3.319998\n",
       "8     3.315400\n",
       "22    3.314480\n",
       "6     3.309882\n",
       "21    3.308962\n",
       "4     3.303444\n",
       "11    3.300685\n",
       "15    3.290569\n",
       "14    3.272175\n",
       "12    3.269416\n",
       "17    3.254702\n",
       "16    3.253782\n",
       "10    3.245505\n",
       "25    3.240907\n",
       "3     3.225272\n",
       "1     3.219754\n",
       "7     3.216995\n",
       "24    3.187566\n",
       "2     3.153538\n",
       "29    3.056054\n",
       "30    2.944774\n",
       "31    1.826459\n",
       "Name: purchase_date_day, dtype: float64"
      ]
     },
     "execution_count": 88,
     "metadata": {},
     "output_type": "execute_result"
    }
   ],
   "source": [
    "df_no_fraude['purchase_date_day'].value_counts(normalize=True) * 100"
   ]
  },
  {
   "cell_type": "code",
   "execution_count": 92,
   "metadata": {},
   "outputs": [
    {
     "data": {
      "text/plain": [
       "<AxesSubplot:>"
      ]
     },
     "execution_count": 92,
     "metadata": {},
     "output_type": "execute_result"
    },
    {
     "data": {
      "image/png": "[encoded data removed]",
      "text/plain": [
       "<Figure size 432x288 with 1 Axes>"
      ]
     },
     "metadata": {
      "needs_background": "light"
     },
     "output_type": "display_data"
    }
   ],
   "source": [
    "dc = df_no_fraude['purchase_date_day'].value_counts(normalize=True) * 100\n",
    "\n",
    "dc.plot.bar()"
   ]
  },
  {
   "cell_type": "code",
   "execution_count": 96,
   "metadata": {},
   "outputs": [
    {
     "data": {
      "text/plain": [
       "<AxesSubplot:>"
      ]
     },
     "execution_count": 96,
     "metadata": {},
     "output_type": "execute_result"
    },
    {
     "data": {
      "image/png": "[encoded data removed]",
      "text/plain": [
       "<Figure size 432x288 with 1 Axes>"
      ]
     },
     "metadata": {
      "needs_background": "light"
     },
     "output_type": "display_data"
    }
   ],
   "source": [
    "dc = df_no_fraude['purchase_date_day'].value_counts(normalize=True) * 100\n",
    "\n",
    "dc = dc - 1\n",
    "\n",
    "dc.plot.bar()"
   ]
  },
  {
   "cell_type": "code",
   "execution_count": 91,
   "metadata": {},
   "outputs": [
    {
     "data": {
      "text/plain": [
       "<AxesSubplot:>"
      ]
     },
     "execution_count": 91,
     "metadata": {},
     "output_type": "execute_result"
    },
    {
     "data": {
      "image/png": "[encoded data removed]",
      "text/plain": [
       "<Figure size 432x288 with 1 Axes>"
      ]
     },
     "metadata": {
      "needs_background": "light"
     },
     "output_type": "display_data"
    }
   ],
   "source": [
    "dc = df_no_fraude['purchase_date_day'].value_counts(normalize=True) * 100\n",
    "\n",
    "dc = dc[:6] - 3\n",
    "\n",
    "dc.plot.bar()"
   ]
  },
  {
   "cell_type": "code",
   "execution_count": 97,
   "metadata": {
    "scrolled": true
   },
   "outputs": [
    {
     "data": {
      "text/plain": [
       "7     7.066134\n",
       "2     6.435863\n",
       "12    6.320462\n",
       "11    6.080781\n",
       "6     6.036396\n",
       "10    5.938748\n",
       "4     5.912117\n",
       "8     5.796715\n",
       "1     5.707945\n",
       "3     5.379494\n",
       "5     5.193076\n",
       "9     5.166445\n",
       "13    2.219263\n",
       "17    1.668886\n",
       "20    1.660009\n",
       "22    1.633378\n",
       "14    1.624501\n",
       "26    1.624501\n",
       "28    1.615624\n",
       "29    1.615624\n",
       "15    1.571238\n",
       "24    1.509099\n",
       "21    1.482468\n",
       "25    1.464714\n",
       "27    1.446960\n",
       "23    1.429206\n",
       "30    1.402574\n",
       "19    1.393697\n",
       "18    1.358189\n",
       "16    1.287173\n",
       "31    0.958722\n",
       "Name: purchase_date_day, dtype: float64"
      ]
     },
     "execution_count": 97,
     "metadata": {},
     "output_type": "execute_result"
    }
   ],
   "source": [
    "df_yes_fraude['purchase_date_day'].value_counts(normalize=True) * 100"
   ]
  },
  {
   "cell_type": "code",
   "execution_count": 98,
   "metadata": {},
   "outputs": [
    {
     "data": {
      "text/plain": [
       "<AxesSubplot:>"
      ]
     },
     "execution_count": 98,
     "metadata": {},
     "output_type": "execute_result"
    },
    {
     "data": {
      "image/png": "[encoded data removed]",
      "text/plain": [
       "<Figure size 432x288 with 1 Axes>"
      ]
     },
     "metadata": {
      "needs_background": "light"
     },
     "output_type": "display_data"
    }
   ],
   "source": [
    "dc = df_yes_fraude['purchase_date_day'].value_counts(normalize=True) * 100\n",
    "\n",
    "dc.plot.bar();"
   ]
  },
  {
   "cell_type": "code",
   "execution_count": 110,
   "metadata": {},
   "outputs": [
    {
     "data": {
      "image/png": "[encoded data removed]",
      "text/plain": [
       "<Figure size 432x288 with 1 Axes>"
      ]
     },
     "metadata": {
      "needs_background": "light"
     },
     "output_type": "display_data"
    }
   ],
   "source": [
    "dc = df_yes_fraude['purchase_date_day'].value_counts(normalize=True) * 100\n",
    "\n",
    "dc[:13].plot.bar();"
   ]
  },
  {
   "cell_type": "markdown",
   "metadata": {},
   "source": [
    "__Partial conclusions for day purchase analysis:__ \n",
    "\n",
    "_It's no possible to differentiate any particular day for non fraudulent transactions, however, for the fraudulent transactions it was clear that some days have more activities than others._"
   ]
  },
  {
   "cell_type": "markdown",
   "metadata": {},
   "source": [
    "### Analysis of purchase_date per month"
   ]
  },
  {
   "cell_type": "code",
   "execution_count": 119,
   "metadata": {},
   "outputs": [
    {
     "data": {
      "text/plain": [
       "<AxesSubplot:xlabel='purchase_date_month'>"
      ]
     },
     "execution_count": 119,
     "metadata": {},
     "output_type": "execute_result"
    },
    {
     "data": {
      "image/png": "[encoded data removed]",
      "text/plain": [
       "<Figure size 432x288 with 1 Axes>"
      ]
     },
     "metadata": {
      "needs_background": "light"
     },
     "output_type": "display_data"
    }
   ],
   "source": [
    "df_no_fraude.groupby('purchase_date_month').count()['class'].plot()"
   ]
  },
  {
   "cell_type": "code",
   "execution_count": 118,
   "metadata": {
    "scrolled": true
   },
   "outputs": [
    {
     "data": {
      "text/plain": [
       "<AxesSubplot:xlabel='purchase_date_month'>"
      ]
     },
     "execution_count": 118,
     "metadata": {},
     "output_type": "execute_result"
    },
    {
     "data": {
      "image/png": "[encoded data removed]",
      "text/plain": [
       "<Figure size 432x288 with 1 Axes>"
      ]
     },
     "metadata": {
      "needs_background": "light"
     },
     "output_type": "display_data"
    }
   ],
   "source": [
    "df_yes_fraude.groupby('purchase_date_month').count()['class'].plot()"
   ]
  },
  {
   "cell_type": "code",
   "execution_count": 123,
   "metadata": {},
   "outputs": [
    {
     "data": {
      "text/plain": [
       "<AxesSubplot:xlabel='purchase_date_month'>"
      ]
     },
     "execution_count": 123,
     "metadata": {},
     "output_type": "execute_result"
    },
    {
     "data": {
      "image/png": "[encoded data removed]",
      "text/plain": [
       "<Figure size 432x288 with 1 Axes>"
      ]
     },
     "metadata": {
      "needs_background": "light"
     },
     "output_type": "display_data"
    }
   ],
   "source": [
    "df_no_fraude.groupby('purchase_date_month').count()['class'].plot()\n",
    "\n",
    "df_yes_fraude.groupby('purchase_date_month').count()['class'].plot()"
   ]
  },
  {
   "cell_type": "code",
   "execution_count": 122,
   "metadata": {},
   "outputs": [
    {
     "data": {
      "text/plain": [
       "<AxesSubplot:xlabel='purchase_date_month'>"
      ]
     },
     "execution_count": 122,
     "metadata": {},
     "output_type": "execute_result"
    },
    {
     "data": {
      "image/png": "[encoded data removed]",
      "text/plain": [
       "<Figure size 432x288 with 1 Axes>"
      ]
     },
     "metadata": {
      "needs_background": "light"
     },
     "output_type": "display_data"
    }
   ],
   "source": [
    "df_no_fraude.sample(frac=0.1).groupby('purchase_date_month').count()['class'].plot()\n",
    "\n",
    "df_yes_fraude.groupby('purchase_date_month').count()['class'].plot()"
   ]
  },
  {
   "cell_type": "code",
   "execution_count": 111,
   "metadata": {
    "scrolled": false
   },
   "outputs": [
    {
     "data": {
      "text/plain": [
       "7     13.596358\n",
       "5     13.468524\n",
       "6     13.177910\n",
       "8     13.054674\n",
       "4     11.544581\n",
       "9      9.971030\n",
       "3      8.406677\n",
       "10     6.865315\n",
       "2      4.479698\n",
       "11     3.309882\n",
       "1      1.737251\n",
       "12     0.388100\n",
       "Name: purchase_date_month, dtype: float64"
      ]
     },
     "execution_count": 111,
     "metadata": {},
     "output_type": "execute_result"
    }
   ],
   "source": [
    "df_no_fraude['purchase_date_month'].value_counts(normalize=True) * 100"
   ]
  },
  {
   "cell_type": "code",
   "execution_count": 114,
   "metadata": {},
   "outputs": [
    {
     "data": {
      "text/plain": [
       "<AxesSubplot:>"
      ]
     },
     "execution_count": 114,
     "metadata": {},
     "output_type": "execute_result"
    },
    {
     "data": {
      "image/png": "[encoded data removed]",
      "text/plain": [
       "<Figure size 432x288 with 1 Axes>"
      ]
     },
     "metadata": {
      "needs_background": "light"
     },
     "output_type": "display_data"
    }
   ],
   "source": [
    "dc = df_no_fraude['purchase_date_month'].value_counts(normalize=True) * 100\n",
    "\n",
    "dc.plot.bar()"
   ]
  },
  {
   "cell_type": "code",
   "execution_count": 125,
   "metadata": {},
   "outputs": [
    {
     "data": {
      "text/plain": [
       "1     54.336440\n",
       "5      6.595650\n",
       "7      6.382601\n",
       "6      6.000888\n",
       "8      5.885486\n",
       "4      5.335109\n",
       "9      4.616067\n",
       "3      3.879272\n",
       "10     3.151354\n",
       "2      2.006214\n",
       "11     1.588992\n",
       "12     0.221926\n",
       "Name: purchase_date_month, dtype: float64"
      ]
     },
     "execution_count": 125,
     "metadata": {},
     "output_type": "execute_result"
    }
   ],
   "source": [
    "df_yes_fraude['purchase_date_month'].value_counts(normalize=True) * 100"
   ]
  },
  {
   "cell_type": "code",
   "execution_count": 115,
   "metadata": {
    "scrolled": true
   },
   "outputs": [
    {
     "data": {
      "text/plain": [
       "<AxesSubplot:>"
      ]
     },
     "execution_count": 115,
     "metadata": {},
     "output_type": "execute_result"
    },
    {
     "data": {
      "image/png": "[encoded data removed]",
      "text/plain": [
       "<Figure size 432x288 with 1 Axes>"
      ]
     },
     "metadata": {
      "needs_background": "light"
     },
     "output_type": "display_data"
    }
   ],
   "source": [
    "dc = df_yes_fraude['purchase_date_month'].value_counts(normalize=True) * 100\n",
    "\n",
    "dc.plot.bar()"
   ]
  },
  {
   "cell_type": "markdown",
   "metadata": {},
   "source": [
    "__Partial conclusions for month purchase analysis:__\n",
    "\n",
    "_It's no possible to differentiate any particular month for non fraudulent transactions._\n",
    "\n",
    "_As for fraudulent transactions clearly january seems to be the most frequent._"
   ]
  },
  {
   "cell_type": "markdown",
   "metadata": {},
   "source": [
    "### Final conclusions so far: features regarding time at any scale (hours,days or months) should be included in the final training data for the classification"
   ]
  },
  {
   "cell_type": "markdown",
   "metadata": {},
   "source": [
    "### Since this jupyter is getting too heavy for my notebook to process I'm gona go from here to another notebook"
   ]
  },
  {
   "cell_type": "markdown",
   "metadata": {},
   "source": [
    "_---------------------------------------------------------------------------------------------------------------------_"
   ]
  },
  {
   "cell_type": "code",
   "execution_count": null,
   "metadata": {},
   "outputs": [],
   "source": []
  }
 ],
 "metadata": {
  "kernelspec": {
   "display_name": "Python 3",
   "language": "python",
   "name": "python3"
  },
  "language_info": {
   "codemirror_mode": {
    "name": "ipython",
    "version": 3
   },
   "file_extension": ".py",
   "mimetype": "text/x-python",
   "name": "python",
   "nbconvert_exporter": "python",
   "pygments_lexer": "ipython3",
   "version": "3.8.5"
  },
  "latex_envs": {
   "LaTeX_envs_menu_present": true,
   "autoclose": false,
   "autocomplete": true,
   "bibliofile": "biblio.bib",
   "cite_by": "apalike",
   "current_citInitial": 1,
   "eqLabelWithNumbers": true,
   "eqNumInitial": 1,
   "hotkeys": {
    "equation": "Ctrl-E",
    "itemize": "Ctrl-I"
   },
   "labels_anchors": false,
   "latex_user_defs": false,
   "report_style_numbering": false,
   "user_envs_cfg": false
  }
 },
 "nbformat": 4,
 "nbformat_minor": 4
}
