{
 "cells": [
  {
   "cell_type": "markdown",
   "metadata": {},
   "source": [
    "### 1st Loop"
   ]
  },
  {
   "cell_type": "markdown",
   "metadata": {},
   "source": [
    "__Feature Engineering:__\n",
    "- Dropping useless features\n",
    "- Breaking the date columns\n",
    "- Dealing with categorial variables (including the target): encoding"
   ]
  },
  {
   "cell_type": "code",
   "execution_count": 1,
   "metadata": {},
   "outputs": [],
   "source": [
    "from sklearn.ensemble import RandomForestClassifier\n",
    "import pandas as pd\n",
    "import numpy as np\n",
    "import matplotlib.pyplot as plt\n",
    "import seaborn as sns\n",
    "from imblearn.over_sampling import SMOTE\n",
    "from sklearn.preprocessing import OneHotEncoder\n",
    "from sklearn.model_selection import train_test_split\n",
    "from xgboost import XGBClassifier\n",
    "from sklearn.metrics import accuracy_score, classification_report, confusion_matrix\n",
    "from collections import Counter\n",
    "from catboost import CatBoostClassifier"
   ]
  },
  {
   "cell_type": "markdown",
   "metadata": {},
   "source": [
    "- __Dropping useless features__"
   ]
  },
  {
   "cell_type": "code",
   "execution_count": 81,
   "metadata": {
    "scrolled": false
   },
   "outputs": [
    {
     "data": {
      "text/html": [
       "<div>\n",
       "<style scoped>\n",
       "    .dataframe tbody tr th:only-of-type {\n",
       "        vertical-align: middle;\n",
       "    }\n",
       "\n",
       "    .dataframe tbody tr th {\n",
       "        vertical-align: top;\n",
       "    }\n",
       "\n",
       "    .dataframe thead th {\n",
       "        text-align: right;\n",
       "    }\n",
       "</style>\n",
       "<table border=\"1\" class=\"dataframe\">\n",
       "  <thead>\n",
       "    <tr style=\"text-align: right;\">\n",
       "      <th></th>\n",
       "      <th>Unnamed: 0</th>\n",
       "      <th>user_id</th>\n",
       "      <th>signup_time</th>\n",
       "      <th>purchase_time</th>\n",
       "      <th>purchase_value</th>\n",
       "      <th>device_id</th>\n",
       "      <th>source</th>\n",
       "      <th>browser</th>\n",
       "      <th>sex</th>\n",
       "      <th>age</th>\n",
       "      <th>ip_address</th>\n",
       "      <th>class</th>\n",
       "    </tr>\n",
       "  </thead>\n",
       "  <tbody>\n",
       "    <tr>\n",
       "      <th>0</th>\n",
       "      <td>149671</td>\n",
       "      <td>285108</td>\n",
       "      <td>7/15/2015 4:36</td>\n",
       "      <td>9/10/2015 14:17</td>\n",
       "      <td>31</td>\n",
       "      <td>HZAKVUFTDOSFD</td>\n",
       "      <td>Direct</td>\n",
       "      <td>Chrome</td>\n",
       "      <td>M</td>\n",
       "      <td>49</td>\n",
       "      <td>2.818400e+09</td>\n",
       "      <td>0</td>\n",
       "    </tr>\n",
       "    <tr>\n",
       "      <th>1</th>\n",
       "      <td>15611</td>\n",
       "      <td>131009</td>\n",
       "      <td>1/24/2015 12:29</td>\n",
       "      <td>4/13/2015 4:53</td>\n",
       "      <td>31</td>\n",
       "      <td>XGQAJSOUJIZCC</td>\n",
       "      <td>SEO</td>\n",
       "      <td>IE</td>\n",
       "      <td>F</td>\n",
       "      <td>21</td>\n",
       "      <td>3.251268e+09</td>\n",
       "      <td>0</td>\n",
       "    </tr>\n",
       "    <tr>\n",
       "      <th>2</th>\n",
       "      <td>73178</td>\n",
       "      <td>328855</td>\n",
       "      <td>3/11/2015 0:54</td>\n",
       "      <td>4/5/2015 12:23</td>\n",
       "      <td>16</td>\n",
       "      <td>VCCTAYDCWKZIY</td>\n",
       "      <td>Direct</td>\n",
       "      <td>IE</td>\n",
       "      <td>M</td>\n",
       "      <td>26</td>\n",
       "      <td>2.727760e+09</td>\n",
       "      <td>0</td>\n",
       "    </tr>\n",
       "    <tr>\n",
       "      <th>3</th>\n",
       "      <td>84546</td>\n",
       "      <td>229053</td>\n",
       "      <td>1/7/2015 13:19</td>\n",
       "      <td>1/9/2015 10:12</td>\n",
       "      <td>29</td>\n",
       "      <td>MFFIHYNXCJLEY</td>\n",
       "      <td>SEO</td>\n",
       "      <td>Chrome</td>\n",
       "      <td>M</td>\n",
       "      <td>34</td>\n",
       "      <td>2.083420e+09</td>\n",
       "      <td>0</td>\n",
       "    </tr>\n",
       "    <tr>\n",
       "      <th>4</th>\n",
       "      <td>35978</td>\n",
       "      <td>108439</td>\n",
       "      <td>2/8/2015 21:11</td>\n",
       "      <td>4/9/2015 14:26</td>\n",
       "      <td>26</td>\n",
       "      <td>WMSXWGVPNIFBM</td>\n",
       "      <td>Ads</td>\n",
       "      <td>FireFox</td>\n",
       "      <td>M</td>\n",
       "      <td>33</td>\n",
       "      <td>3.207913e+09</td>\n",
       "      <td>0</td>\n",
       "    </tr>\n",
       "  </tbody>\n",
       "</table>\n",
       "</div>"
      ],
      "text/plain": [
       "   Unnamed: 0  user_id      signup_time    purchase_time  purchase_value  \\\n",
       "0      149671   285108   7/15/2015 4:36  9/10/2015 14:17              31   \n",
       "1       15611   131009  1/24/2015 12:29   4/13/2015 4:53              31   \n",
       "2       73178   328855   3/11/2015 0:54   4/5/2015 12:23              16   \n",
       "3       84546   229053   1/7/2015 13:19   1/9/2015 10:12              29   \n",
       "4       35978   108439   2/8/2015 21:11   4/9/2015 14:26              26   \n",
       "\n",
       "       device_id  source  browser sex  age    ip_address  class  \n",
       "0  HZAKVUFTDOSFD  Direct   Chrome   M   49  2.818400e+09      0  \n",
       "1  XGQAJSOUJIZCC     SEO       IE   F   21  3.251268e+09      0  \n",
       "2  VCCTAYDCWKZIY  Direct       IE   M   26  2.727760e+09      0  \n",
       "3  MFFIHYNXCJLEY     SEO   Chrome   M   34  2.083420e+09      0  \n",
       "4  WMSXWGVPNIFBM     Ads  FireFox   M   33  3.207913e+09      0  "
      ]
     },
     "execution_count": 81,
     "metadata": {},
     "output_type": "execute_result"
    }
   ],
   "source": [
    "df = pd.read_csv('Candidate_tech_evaluation_candidate_copy_data science_fraud.csv')\n",
    "\n",
    "df.head(5)"
   ]
  },
  {
   "cell_type": "code",
   "execution_count": 82,
   "metadata": {},
   "outputs": [],
   "source": [
    "# Unwanted column has to be dismissed\n",
    "df.drop(df.columns[0],axis=1,inplace=True)"
   ]
  },
  {
   "cell_type": "code",
   "execution_count": 83,
   "metadata": {},
   "outputs": [],
   "source": [
    "df.drop('device_id',axis=1,inplace=True)"
   ]
  },
  {
   "cell_type": "code",
   "execution_count": 84,
   "metadata": {},
   "outputs": [
    {
     "data": {
      "text/html": [
       "<div>\n",
       "<style scoped>\n",
       "    .dataframe tbody tr th:only-of-type {\n",
       "        vertical-align: middle;\n",
       "    }\n",
       "\n",
       "    .dataframe tbody tr th {\n",
       "        vertical-align: top;\n",
       "    }\n",
       "\n",
       "    .dataframe thead th {\n",
       "        text-align: right;\n",
       "    }\n",
       "</style>\n",
       "<table border=\"1\" class=\"dataframe\">\n",
       "  <thead>\n",
       "    <tr style=\"text-align: right;\">\n",
       "      <th></th>\n",
       "      <th>signup_time</th>\n",
       "      <th>purchase_time</th>\n",
       "      <th>purchase_value</th>\n",
       "      <th>source</th>\n",
       "      <th>browser</th>\n",
       "      <th>sex</th>\n",
       "      <th>age</th>\n",
       "      <th>ip_address</th>\n",
       "      <th>class</th>\n",
       "    </tr>\n",
       "  </thead>\n",
       "  <tbody>\n",
       "    <tr>\n",
       "      <th>0</th>\n",
       "      <td>7/15/2015 4:36</td>\n",
       "      <td>9/10/2015 14:17</td>\n",
       "      <td>31</td>\n",
       "      <td>Direct</td>\n",
       "      <td>Chrome</td>\n",
       "      <td>M</td>\n",
       "      <td>49</td>\n",
       "      <td>2.818400e+09</td>\n",
       "      <td>0</td>\n",
       "    </tr>\n",
       "    <tr>\n",
       "      <th>1</th>\n",
       "      <td>1/24/2015 12:29</td>\n",
       "      <td>4/13/2015 4:53</td>\n",
       "      <td>31</td>\n",
       "      <td>SEO</td>\n",
       "      <td>IE</td>\n",
       "      <td>F</td>\n",
       "      <td>21</td>\n",
       "      <td>3.251268e+09</td>\n",
       "      <td>0</td>\n",
       "    </tr>\n",
       "    <tr>\n",
       "      <th>2</th>\n",
       "      <td>3/11/2015 0:54</td>\n",
       "      <td>4/5/2015 12:23</td>\n",
       "      <td>16</td>\n",
       "      <td>Direct</td>\n",
       "      <td>IE</td>\n",
       "      <td>M</td>\n",
       "      <td>26</td>\n",
       "      <td>2.727760e+09</td>\n",
       "      <td>0</td>\n",
       "    </tr>\n",
       "  </tbody>\n",
       "</table>\n",
       "</div>"
      ],
      "text/plain": [
       "       signup_time    purchase_time  purchase_value  source browser sex  age  \\\n",
       "0   7/15/2015 4:36  9/10/2015 14:17              31  Direct  Chrome   M   49   \n",
       "1  1/24/2015 12:29   4/13/2015 4:53              31     SEO      IE   F   21   \n",
       "2   3/11/2015 0:54   4/5/2015 12:23              16  Direct      IE   M   26   \n",
       "\n",
       "     ip_address  class  \n",
       "0  2.818400e+09      0  \n",
       "1  3.251268e+09      0  \n",
       "2  2.727760e+09      0  "
      ]
     },
     "execution_count": 84,
     "metadata": {},
     "output_type": "execute_result"
    }
   ],
   "source": [
    "df.drop('user_id',axis=1,inplace=True)\n",
    "\n",
    "df.head(3)"
   ]
  },
  {
   "cell_type": "markdown",
   "metadata": {},
   "source": [
    "- __Breaking the date columns__"
   ]
  },
  {
   "cell_type": "code",
   "execution_count": 85,
   "metadata": {},
   "outputs": [
    {
     "data": {
      "text/plain": [
       "0    7/15/2015\n",
       "1    1/24/2015\n",
       "2    3/11/2015\n",
       "Name: signup_date, dtype: object"
      ]
     },
     "execution_count": 85,
     "metadata": {},
     "output_type": "execute_result"
    }
   ],
   "source": [
    "df['signup_date'] = df['signup_time'].apply(lambda x: x.split(' ')[0].strip())\n",
    "\n",
    "df['signup_date'].head(3)"
   ]
  },
  {
   "cell_type": "code",
   "execution_count": 86,
   "metadata": {},
   "outputs": [
    {
     "data": {
      "text/plain": [
       "0     4:36\n",
       "1    12:29\n",
       "2     0:54\n",
       "Name: signup_date_hour, dtype: object"
      ]
     },
     "execution_count": 86,
     "metadata": {},
     "output_type": "execute_result"
    }
   ],
   "source": [
    "df['signup_date_hour'] = df['signup_time'].apply(lambda x: x.split(' ')[1].strip())\n",
    "\n",
    "df['signup_date_hour'].head(3)"
   ]
  },
  {
   "cell_type": "code",
   "execution_count": 87,
   "metadata": {},
   "outputs": [
    {
     "data": {
      "text/plain": [
       "array([ 4, 12,  0, 13, 21, 20,  7,  1, 16,  2, 11,  5, 15,  6, 23, 17, 22,\n",
       "       19, 18, 14, 10,  3,  9,  8])"
      ]
     },
     "execution_count": 87,
     "metadata": {},
     "output_type": "execute_result"
    }
   ],
   "source": [
    "df['signup_date_hour'] = df['signup_date_hour'].apply(lambda x: x.split(':')[0].strip())\n",
    "\n",
    "df['signup_date_hour'] = df['signup_date_hour'].astype('int')\n",
    "\n",
    "df['signup_date_hour'].unique()"
   ]
  },
  {
   "cell_type": "code",
   "execution_count": 88,
   "metadata": {},
   "outputs": [
    {
     "data": {
      "text/plain": [
       "array([15, 24, 11,  7,  8, 20, 30, 10,  5, 23, 12, 21, 17,  6,  2, 18, 29,\n",
       "       28, 27, 14, 26, 19,  4, 22, 13,  1,  3,  9, 16, 25, 31])"
      ]
     },
     "execution_count": 88,
     "metadata": {},
     "output_type": "execute_result"
    }
   ],
   "source": [
    "df['signup_date_day'] = df['signup_date'].apply(lambda x: x.split('/')[1].strip())\n",
    "\n",
    "df['signup_date_day'] = df['signup_date_day'].astype('int')\n",
    "\n",
    "df['signup_date_day'].unique()"
   ]
  },
  {
   "cell_type": "code",
   "execution_count": 89,
   "metadata": {},
   "outputs": [
    {
     "data": {
      "text/plain": [
       "array([7, 1, 3, 2, 4, 6, 5, 8])"
      ]
     },
     "execution_count": 89,
     "metadata": {},
     "output_type": "execute_result"
    }
   ],
   "source": [
    "df['signup_date_month'] = df['signup_date'].apply(lambda x: x.split('/')[0].strip())\n",
    "\n",
    "df['signup_date_month'] = df['signup_date_month'].astype('int')\n",
    "\n",
    "df['signup_date_month'].unique()"
   ]
  },
  {
   "cell_type": "code",
   "execution_count": 90,
   "metadata": {
    "scrolled": true
   },
   "outputs": [
    {
     "data": {
      "text/plain": [
       "array([15, 24, 11,  7,  8, 20, 30, 10,  5, 23, 12, 21, 17,  6,  2, 18, 29,\n",
       "       28, 27, 14, 26, 19,  4, 22, 13,  1,  3,  9, 16, 25, 31])"
      ]
     },
     "execution_count": 90,
     "metadata": {},
     "output_type": "execute_result"
    }
   ],
   "source": [
    "df['signup_date_day'].unique()"
   ]
  },
  {
   "cell_type": "code",
   "execution_count": 91,
   "metadata": {},
   "outputs": [
    {
     "data": {
      "text/plain": [
       "array([7, 1, 3, 2, 4, 6, 5, 8])"
      ]
     },
     "execution_count": 91,
     "metadata": {},
     "output_type": "execute_result"
    }
   ],
   "source": [
    "df['signup_date_month'].unique()"
   ]
  },
  {
   "cell_type": "code",
   "execution_count": 92,
   "metadata": {},
   "outputs": [
    {
     "data": {
      "text/plain": [
       "array(['14', '4', '12', '10', '20', '16', '17', '13', '21', '11', '5',\n",
       "       '1', '7', '6', '18', '0', '3', '2', '23', '22', '15', '8', '9',\n",
       "       '19'], dtype=object)"
      ]
     },
     "execution_count": 92,
     "metadata": {},
     "output_type": "execute_result"
    }
   ],
   "source": [
    "df['purchase_date_hour'] = df['purchase_time'].apply(lambda x: x.split(' ')[1].strip())\n",
    "\n",
    "df['purchase_date_hour'] = df['purchase_date_hour'].apply(lambda x: x.split(':')[0].strip())\n",
    "\n",
    "df['purchase_date_hour'].unique()"
   ]
  },
  {
   "cell_type": "code",
   "execution_count": 93,
   "metadata": {},
   "outputs": [],
   "source": [
    "df['purchase_date_hour'] = df['purchase_date_hour'].astype('int')"
   ]
  },
  {
   "cell_type": "code",
   "execution_count": 94,
   "metadata": {},
   "outputs": [
    {
     "data": {
      "text/plain": [
       "array([14,  4, 12, 10, 20, 16, 17, 13, 21, 11,  5,  1,  7,  6, 18,  0,  3,\n",
       "        2, 23, 22, 15,  8,  9, 19])"
      ]
     },
     "execution_count": 94,
     "metadata": {},
     "output_type": "execute_result"
    }
   ],
   "source": [
    "df['purchase_date_hour'].unique()"
   ]
  },
  {
   "cell_type": "code",
   "execution_count": 95,
   "metadata": {},
   "outputs": [
    {
     "data": {
      "text/plain": [
       "0         9/10/2015\n",
       "1         4/13/2015\n",
       "2          4/5/2015\n",
       "3          1/9/2015\n",
       "4          4/9/2015\n",
       "            ...    \n",
       "119995    4/16/2015\n",
       "119996    8/25/2015\n",
       "119997     9/3/2015\n",
       "119998    6/22/2015\n",
       "119999     9/3/2015\n",
       "Name: purchase_date, Length: 120000, dtype: object"
      ]
     },
     "execution_count": 95,
     "metadata": {},
     "output_type": "execute_result"
    }
   ],
   "source": [
    "df['purchase_date'] = df['purchase_time'].apply(lambda x: x.split(' ')[0].strip())\n",
    "\n",
    "df['purchase_date']"
   ]
  },
  {
   "cell_type": "code",
   "execution_count": 96,
   "metadata": {},
   "outputs": [],
   "source": [
    "df['purchase_date_month'] = df['purchase_date'].apply(lambda x: x.split('/')[0].strip())\n",
    "\n",
    "df['purchase_date_month'] = df['purchase_date_month'].astype('int')"
   ]
  },
  {
   "cell_type": "code",
   "execution_count": 97,
   "metadata": {},
   "outputs": [
    {
     "data": {
      "text/plain": [
       "array([ 9,  4,  1,  8,  6, 10,  7,  5,  3,  2, 12, 11])"
      ]
     },
     "execution_count": 97,
     "metadata": {},
     "output_type": "execute_result"
    }
   ],
   "source": [
    "df['purchase_date_month'].unique()"
   ]
  },
  {
   "cell_type": "code",
   "execution_count": 98,
   "metadata": {},
   "outputs": [
    {
     "data": {
      "text/plain": [
       "array([10, 13,  5,  9,  3, 30, 25, 20, 12,  2, 19, 24, 26,  4, 28, 15, 16,\n",
       "       27,  6, 14, 23, 21, 22, 31,  8,  7, 11, 18, 29, 17,  1])"
      ]
     },
     "execution_count": 98,
     "metadata": {},
     "output_type": "execute_result"
    }
   ],
   "source": [
    "df['purchase_date_day'] = df['purchase_date'].apply(lambda x: x.split('/')[1].strip())\n",
    "\n",
    "df['purchase_date_day'] = df['purchase_date_day'].astype('int')\n",
    "\n",
    "df['purchase_date_day'].unique()"
   ]
  },
  {
   "cell_type": "markdown",
   "metadata": {},
   "source": [
    "Now I don't need _signup_time_ and _purchase_time_ in the dataset anymore\n",
    "\n",
    "Also since there is just data from one unique year (2015), I'm gonna delete the respective columns"
   ]
  },
  {
   "cell_type": "code",
   "execution_count": 99,
   "metadata": {},
   "outputs": [],
   "source": [
    "df.drop('signup_time',axis=1,inplace=True)"
   ]
  },
  {
   "cell_type": "code",
   "execution_count": 100,
   "metadata": {},
   "outputs": [],
   "source": [
    "df.drop('purchase_time',axis=1,inplace=True)"
   ]
  },
  {
   "cell_type": "code",
   "execution_count": 101,
   "metadata": {},
   "outputs": [],
   "source": [
    "df.drop('signup_date',axis=1,inplace=True)"
   ]
  },
  {
   "cell_type": "code",
   "execution_count": 102,
   "metadata": {},
   "outputs": [],
   "source": [
    "df.drop('purchase_date',axis=1,inplace=True)"
   ]
  },
  {
   "cell_type": "code",
   "execution_count": 103,
   "metadata": {
    "scrolled": true
   },
   "outputs": [
    {
     "data": {
      "text/html": [
       "<div>\n",
       "<style scoped>\n",
       "    .dataframe tbody tr th:only-of-type {\n",
       "        vertical-align: middle;\n",
       "    }\n",
       "\n",
       "    .dataframe tbody tr th {\n",
       "        vertical-align: top;\n",
       "    }\n",
       "\n",
       "    .dataframe thead th {\n",
       "        text-align: right;\n",
       "    }\n",
       "</style>\n",
       "<table border=\"1\" class=\"dataframe\">\n",
       "  <thead>\n",
       "    <tr style=\"text-align: right;\">\n",
       "      <th></th>\n",
       "      <th>purchase_value</th>\n",
       "      <th>source</th>\n",
       "      <th>browser</th>\n",
       "      <th>sex</th>\n",
       "      <th>age</th>\n",
       "      <th>ip_address</th>\n",
       "      <th>class</th>\n",
       "      <th>signup_date_hour</th>\n",
       "      <th>signup_date_day</th>\n",
       "      <th>signup_date_month</th>\n",
       "      <th>purchase_date_hour</th>\n",
       "      <th>purchase_date_month</th>\n",
       "      <th>purchase_date_day</th>\n",
       "    </tr>\n",
       "  </thead>\n",
       "  <tbody>\n",
       "    <tr>\n",
       "      <th>0</th>\n",
       "      <td>31</td>\n",
       "      <td>Direct</td>\n",
       "      <td>Chrome</td>\n",
       "      <td>M</td>\n",
       "      <td>49</td>\n",
       "      <td>2.818400e+09</td>\n",
       "      <td>0</td>\n",
       "      <td>4</td>\n",
       "      <td>15</td>\n",
       "      <td>7</td>\n",
       "      <td>14</td>\n",
       "      <td>9</td>\n",
       "      <td>10</td>\n",
       "    </tr>\n",
       "    <tr>\n",
       "      <th>1</th>\n",
       "      <td>31</td>\n",
       "      <td>SEO</td>\n",
       "      <td>IE</td>\n",
       "      <td>F</td>\n",
       "      <td>21</td>\n",
       "      <td>3.251268e+09</td>\n",
       "      <td>0</td>\n",
       "      <td>12</td>\n",
       "      <td>24</td>\n",
       "      <td>1</td>\n",
       "      <td>4</td>\n",
       "      <td>4</td>\n",
       "      <td>13</td>\n",
       "    </tr>\n",
       "    <tr>\n",
       "      <th>2</th>\n",
       "      <td>16</td>\n",
       "      <td>Direct</td>\n",
       "      <td>IE</td>\n",
       "      <td>M</td>\n",
       "      <td>26</td>\n",
       "      <td>2.727760e+09</td>\n",
       "      <td>0</td>\n",
       "      <td>0</td>\n",
       "      <td>11</td>\n",
       "      <td>3</td>\n",
       "      <td>12</td>\n",
       "      <td>4</td>\n",
       "      <td>5</td>\n",
       "    </tr>\n",
       "  </tbody>\n",
       "</table>\n",
       "</div>"
      ],
      "text/plain": [
       "   purchase_value  source browser sex  age    ip_address  class  \\\n",
       "0              31  Direct  Chrome   M   49  2.818400e+09      0   \n",
       "1              31     SEO      IE   F   21  3.251268e+09      0   \n",
       "2              16  Direct      IE   M   26  2.727760e+09      0   \n",
       "\n",
       "   signup_date_hour  signup_date_day  signup_date_month  purchase_date_hour  \\\n",
       "0                 4               15                  7                  14   \n",
       "1                12               24                  1                   4   \n",
       "2                 0               11                  3                  12   \n",
       "\n",
       "   purchase_date_month  purchase_date_day  \n",
       "0                    9                 10  \n",
       "1                    4                 13  \n",
       "2                    4                  5  "
      ]
     },
     "execution_count": 103,
     "metadata": {},
     "output_type": "execute_result"
    }
   ],
   "source": [
    "df.head(3)"
   ]
  },
  {
   "cell_type": "code",
   "execution_count": 104,
   "metadata": {},
   "outputs": [
    {
     "data": {
      "text/plain": [
       "0         0\n",
       "1         0\n",
       "2         0\n",
       "3         0\n",
       "4         0\n",
       "         ..\n",
       "119995    0\n",
       "119996    0\n",
       "119997    0\n",
       "119998    0\n",
       "119999    0\n",
       "Name: class, Length: 120000, dtype: int64"
      ]
     },
     "execution_count": 104,
     "metadata": {},
     "output_type": "execute_result"
    }
   ],
   "source": [
    "clas = df['class']\n",
    "\n",
    "clas"
   ]
  },
  {
   "cell_type": "code",
   "execution_count": 105,
   "metadata": {},
   "outputs": [],
   "source": [
    "df.drop('class',axis=1,inplace=True)"
   ]
  },
  {
   "cell_type": "code",
   "execution_count": 106,
   "metadata": {},
   "outputs": [],
   "source": [
    "df['class'] = clas"
   ]
  },
  {
   "cell_type": "code",
   "execution_count": 107,
   "metadata": {
    "scrolled": true
   },
   "outputs": [
    {
     "name": "stdout",
     "output_type": "stream",
     "text": [
      "<class 'pandas.core.frame.DataFrame'>\n",
      "RangeIndex: 120000 entries, 0 to 119999\n",
      "Data columns (total 13 columns):\n",
      " #   Column               Non-Null Count   Dtype  \n",
      "---  ------               --------------   -----  \n",
      " 0   purchase_value       120000 non-null  int64  \n",
      " 1   source               120000 non-null  object \n",
      " 2   browser              120000 non-null  object \n",
      " 3   sex                  120000 non-null  object \n",
      " 4   age                  120000 non-null  int64  \n",
      " 5   ip_address           120000 non-null  float64\n",
      " 6   signup_date_hour     120000 non-null  int32  \n",
      " 7   signup_date_day      120000 non-null  int32  \n",
      " 8   signup_date_month    120000 non-null  int32  \n",
      " 9   purchase_date_hour   120000 non-null  int32  \n",
      " 10  purchase_date_month  120000 non-null  int32  \n",
      " 11  purchase_date_day    120000 non-null  int32  \n",
      " 12  class                120000 non-null  int64  \n",
      "dtypes: float64(1), int32(6), int64(3), object(3)\n",
      "memory usage: 9.2+ MB\n"
     ]
    }
   ],
   "source": [
    "df.info()"
   ]
  },
  {
   "cell_type": "markdown",
   "metadata": {},
   "source": [
    "- __Dealing with categorial variables (including the target): encoding__"
   ]
  },
  {
   "cell_type": "markdown",
   "metadata": {},
   "source": [
    "Categorical features to encoding: __source, sex and browser need__"
   ]
  },
  {
   "cell_type": "code",
   "execution_count": 108,
   "metadata": {},
   "outputs": [
    {
     "data": {
      "text/plain": [
       "array(['Direct', 'SEO', 'Ads'], dtype=object)"
      ]
     },
     "execution_count": 108,
     "metadata": {},
     "output_type": "execute_result"
    }
   ],
   "source": [
    "df['source'].unique()"
   ]
  },
  {
   "cell_type": "code",
   "execution_count": 109,
   "metadata": {},
   "outputs": [],
   "source": [
    "df['source_1'] = df['source'].map(lambda x: 1 if x == 'Direct' else 0)"
   ]
  },
  {
   "cell_type": "code",
   "execution_count": 110,
   "metadata": {},
   "outputs": [],
   "source": [
    "df['source_2'] = df['source'].map(lambda x: 1 if x == 'SEO' else 0)"
   ]
  },
  {
   "cell_type": "code",
   "execution_count": 111,
   "metadata": {},
   "outputs": [],
   "source": [
    "df['source_3'] = df['source'].map(lambda x: 1 if x == 'Ads' else 0)"
   ]
  },
  {
   "cell_type": "code",
   "execution_count": 112,
   "metadata": {},
   "outputs": [],
   "source": [
    "df.drop('source',axis=1,inplace=True)"
   ]
  },
  {
   "cell_type": "code",
   "execution_count": 113,
   "metadata": {},
   "outputs": [],
   "source": [
    "df['sex_1'] = df['sex'].map(lambda x: 1 if x == 'M' else 0)"
   ]
  },
  {
   "cell_type": "code",
   "execution_count": 114,
   "metadata": {},
   "outputs": [],
   "source": [
    "df['sex_2'] = df['sex'].map(lambda x: 1 if x == 'F' else 0)"
   ]
  },
  {
   "cell_type": "code",
   "execution_count": 115,
   "metadata": {},
   "outputs": [],
   "source": [
    "df.drop('sex',axis=1,inplace=True)"
   ]
  },
  {
   "cell_type": "code",
   "execution_count": 116,
   "metadata": {},
   "outputs": [
    {
     "data": {
      "text/plain": [
       "array(['Chrome', 'IE', 'FireFox', 'Safari', 'Opera'], dtype=object)"
      ]
     },
     "execution_count": 116,
     "metadata": {},
     "output_type": "execute_result"
    }
   ],
   "source": [
    "df['browser'].unique()"
   ]
  },
  {
   "cell_type": "code",
   "execution_count": 117,
   "metadata": {},
   "outputs": [],
   "source": [
    "df['browser_1'] = df['browser'].map(lambda x: 1 if x == 'Chrome' else 0)"
   ]
  },
  {
   "cell_type": "code",
   "execution_count": 118,
   "metadata": {},
   "outputs": [],
   "source": [
    "df['browser_2'] = df['browser'].map(lambda x: 1 if x == 'IE' else 0)"
   ]
  },
  {
   "cell_type": "code",
   "execution_count": 119,
   "metadata": {},
   "outputs": [],
   "source": [
    "df['browser_3'] = df['browser'].map(lambda x: 1 if x == 'FireFox' else 0)"
   ]
  },
  {
   "cell_type": "code",
   "execution_count": 120,
   "metadata": {},
   "outputs": [],
   "source": [
    "df['browser_4'] = df['browser'].map(lambda x: 1 if x == 'Safari' else 0)"
   ]
  },
  {
   "cell_type": "code",
   "execution_count": 121,
   "metadata": {},
   "outputs": [],
   "source": [
    "df['browser_5'] = df['browser'].map(lambda x: 1 if x == 'Opera' else 0)"
   ]
  },
  {
   "cell_type": "code",
   "execution_count": 122,
   "metadata": {},
   "outputs": [],
   "source": [
    "df.drop('browser',axis=1,inplace=True)"
   ]
  },
  {
   "cell_type": "code",
   "execution_count": 123,
   "metadata": {},
   "outputs": [
    {
     "name": "stdout",
     "output_type": "stream",
     "text": [
      "<class 'pandas.core.frame.DataFrame'>\n",
      "RangeIndex: 120000 entries, 0 to 119999\n",
      "Data columns (total 20 columns):\n",
      " #   Column               Non-Null Count   Dtype  \n",
      "---  ------               --------------   -----  \n",
      " 0   purchase_value       120000 non-null  int64  \n",
      " 1   age                  120000 non-null  int64  \n",
      " 2   ip_address           120000 non-null  float64\n",
      " 3   signup_date_hour     120000 non-null  int32  \n",
      " 4   signup_date_day      120000 non-null  int32  \n",
      " 5   signup_date_month    120000 non-null  int32  \n",
      " 6   purchase_date_hour   120000 non-null  int32  \n",
      " 7   purchase_date_month  120000 non-null  int32  \n",
      " 8   purchase_date_day    120000 non-null  int32  \n",
      " 9   class                120000 non-null  int64  \n",
      " 10  source_1             120000 non-null  int64  \n",
      " 11  source_2             120000 non-null  int64  \n",
      " 12  source_3             120000 non-null  int64  \n",
      " 13  sex_1                120000 non-null  int64  \n",
      " 14  sex_2                120000 non-null  int64  \n",
      " 15  browser_1            120000 non-null  int64  \n",
      " 16  browser_2            120000 non-null  int64  \n",
      " 17  browser_3            120000 non-null  int64  \n",
      " 18  browser_4            120000 non-null  int64  \n",
      " 19  browser_5            120000 non-null  int64  \n",
      "dtypes: float64(1), int32(6), int64(13)\n",
      "memory usage: 15.6 MB\n"
     ]
    }
   ],
   "source": [
    "df.info()"
   ]
  },
  {
   "cell_type": "markdown",
   "metadata": {},
   "source": [
    "__Modelling prediction:__\n",
    "- Train/test separation\n",
    "- Model building/training (XGboost/CatBoost)"
   ]
  },
  {
   "cell_type": "code",
   "execution_count": 124,
   "metadata": {},
   "outputs": [],
   "source": [
    "X , y = df.drop('class',axis=1), df['class']"
   ]
  },
  {
   "cell_type": "code",
   "execution_count": 125,
   "metadata": {},
   "outputs": [],
   "source": [
    "X_train, X_test, y_train, y_test =  train_test_split(X,y,test_size=0.3,random_state=142)"
   ]
  },
  {
   "cell_type": "code",
   "execution_count": 126,
   "metadata": {},
   "outputs": [],
   "source": [
    "boost = XGBClassifier()"
   ]
  },
  {
   "cell_type": "code",
   "execution_count": 127,
   "metadata": {},
   "outputs": [
    {
     "name": "stderr",
     "output_type": "stream",
     "text": [
      "C:\\Users\\Dell\\anaconda3\\envs\\DataScienceMeigarom\\lib\\site-packages\\xgboost\\sklearn.py:1224: UserWarning: The use of label encoder in XGBClassifier is deprecated and will be removed in a future release. To remove this warning, do the following: 1) Pass option use_label_encoder=False when constructing XGBClassifier object; and 2) Encode your labels (y) as integers starting with 0, i.e. 0, 1, 2, ..., [num_class - 1].\n",
      "  warnings.warn(label_encoder_deprecation_msg, UserWarning)\n"
     ]
    },
    {
     "name": "stdout",
     "output_type": "stream",
     "text": [
      "[20:00:51] WARNING: C:/Users/Administrator/workspace/xgboost-win64_release_1.5.1/src/learner.cc:1115: Starting in XGBoost 1.3.0, the default evaluation metric used with the objective 'binary:logistic' was changed from 'error' to 'logloss'. Explicitly set eval_metric if you'd like to restore the old behavior.\n"
     ]
    },
    {
     "data": {
      "text/plain": [
       "XGBClassifier(base_score=0.5, booster='gbtree', colsample_bylevel=1,\n",
       "              colsample_bynode=1, colsample_bytree=1, enable_categorical=False,\n",
       "              gamma=0, gpu_id=-1, importance_type=None,\n",
       "              interaction_constraints='', learning_rate=0.300000012,\n",
       "              max_delta_step=0, max_depth=6, min_child_weight=1, missing=nan,\n",
       "              monotone_constraints='()', n_estimators=100, n_jobs=4,\n",
       "              num_parallel_tree=1, predictor='auto', random_state=0,\n",
       "              reg_alpha=0, reg_lambda=1, scale_pos_weight=1, subsample=1,\n",
       "              tree_method='exact', validate_parameters=1, verbosity=None)"
      ]
     },
     "execution_count": 127,
     "metadata": {},
     "output_type": "execute_result"
    }
   ],
   "source": [
    "boost.fit(X_train,y_train)"
   ]
  },
  {
   "cell_type": "code",
   "execution_count": 128,
   "metadata": {},
   "outputs": [],
   "source": [
    "y_pred = boost.predict(X_test)"
   ]
  },
  {
   "cell_type": "markdown",
   "metadata": {},
   "source": [
    "__Prediction avaluations:__\n",
    "- Accuracy\n",
    "- Confusion Matrix\n",
    "- Classification Report"
   ]
  },
  {
   "cell_type": "markdown",
   "metadata": {},
   "source": [
    "__PS: I'm not even gonna use accuracy since the classes are so imbalanced__"
   ]
  },
  {
   "cell_type": "code",
   "execution_count": 129,
   "metadata": {
    "scrolled": false
   },
   "outputs": [
    {
     "name": "stdout",
     "output_type": "stream",
     "text": [
      "Classification report: \n",
      "               precision    recall  f1-score   support\n",
      "\n",
      "           0       0.95      1.00      0.98     32524\n",
      "           1       0.99      0.53      0.69      3476\n",
      "\n",
      "    accuracy                           0.95     36000\n",
      "   macro avg       0.97      0.76      0.83     36000\n",
      "weighted avg       0.96      0.95      0.95     36000\n",
      "\n"
     ]
    }
   ],
   "source": [
    "print('Classification report: \\n', classification_report(y_test,y_pred))"
   ]
  },
  {
   "cell_type": "code",
   "execution_count": 130,
   "metadata": {},
   "outputs": [
    {
     "data": {
      "text/plain": [
       "array([[32496,    28],\n",
       "       [ 1631,  1845]], dtype=int64)"
      ]
     },
     "execution_count": 130,
     "metadata": {},
     "output_type": "execute_result"
    }
   ],
   "source": [
    "cf_matrix = confusion_matrix(y_test,y_pred)\n",
    "\n",
    "confusion_matrix(y_test,y_pred)"
   ]
  },
  {
   "cell_type": "code",
   "execution_count": 131,
   "metadata": {
    "scrolled": true
   },
   "outputs": [
    {
     "data": {
      "image/png": "[encoded data removed]",
      "text/plain": [
       "<Figure size 432x288 with 2 Axes>"
      ]
     },
     "metadata": {
      "needs_background": "light"
     },
     "output_type": "display_data"
    }
   ],
   "source": [
    "sns.heatmap(cf_matrix, annot=True);"
   ]
  },
  {
   "cell_type": "markdown",
   "metadata": {},
   "source": [
    "### 2nd Loop"
   ]
  },
  {
   "cell_type": "markdown",
   "metadata": {},
   "source": [
    "__Feature Engineering:__\n",
    "- _Balancing the classes (SMOTE)_"
   ]
  },
  {
   "cell_type": "code",
   "execution_count": 132,
   "metadata": {},
   "outputs": [],
   "source": [
    "smote = SMOTE()"
   ]
  },
  {
   "cell_type": "code",
   "execution_count": 133,
   "metadata": {},
   "outputs": [],
   "source": [
    "X_train_smote, y_train_smote = smote.fit_resample(X_train.astype('float'),y_train)"
   ]
  },
  {
   "cell_type": "code",
   "execution_count": 134,
   "metadata": {
    "scrolled": true
   },
   "outputs": [
    {
     "name": "stdout",
     "output_type": "stream",
     "text": [
      "Before SMOTE:  Counter({0: 76211, 1: 7789})\n",
      "After SMOTE:  Counter({0: 76211, 1: 76211})\n"
     ]
    }
   ],
   "source": [
    "print('Before SMOTE: ', Counter(y_train))\n",
    "print('After SMOTE: ',  Counter(y_train_smote))"
   ]
  },
  {
   "cell_type": "code",
   "execution_count": 135,
   "metadata": {},
   "outputs": [
    {
     "data": {
      "text/plain": [
       "((152422, 19), (84000, 19))"
      ]
     },
     "execution_count": 135,
     "metadata": {},
     "output_type": "execute_result"
    }
   ],
   "source": [
    "X_train_smote.shape, X_train.shape"
   ]
  },
  {
   "cell_type": "code",
   "execution_count": 136,
   "metadata": {},
   "outputs": [],
   "source": [
    "X_train, X_test, y_train, y_test = train_test_split(X_train_smote,y_train_smote,test_size=0.3,random_state=142)"
   ]
  },
  {
   "cell_type": "markdown",
   "metadata": {},
   "source": [
    "__Modelling prediction:__\n",
    "- 2nd modelling"
   ]
  },
  {
   "cell_type": "code",
   "execution_count": 137,
   "metadata": {
    "scrolled": true
   },
   "outputs": [
    {
     "name": "stderr",
     "output_type": "stream",
     "text": [
      "C:\\Users\\Dell\\anaconda3\\envs\\DataScienceMeigarom\\lib\\site-packages\\xgboost\\sklearn.py:1224: UserWarning: The use of label encoder in XGBClassifier is deprecated and will be removed in a future release. To remove this warning, do the following: 1) Pass option use_label_encoder=False when constructing XGBClassifier object; and 2) Encode your labels (y) as integers starting with 0, i.e. 0, 1, 2, ..., [num_class - 1].\n",
      "  warnings.warn(label_encoder_deprecation_msg, UserWarning)\n"
     ]
    },
    {
     "name": "stdout",
     "output_type": "stream",
     "text": [
      "[20:01:02] WARNING: C:/Users/Administrator/workspace/xgboost-win64_release_1.5.1/src/learner.cc:1115: Starting in XGBoost 1.3.0, the default evaluation metric used with the objective 'binary:logistic' was changed from 'error' to 'logloss'. Explicitly set eval_metric if you'd like to restore the old behavior.\n"
     ]
    },
    {
     "data": {
      "text/plain": [
       "XGBClassifier(base_score=0.5, booster='gbtree', colsample_bylevel=1,\n",
       "              colsample_bynode=1, colsample_bytree=1, enable_categorical=False,\n",
       "              gamma=0, gpu_id=-1, importance_type=None,\n",
       "              interaction_constraints='', learning_rate=0.300000012,\n",
       "              max_delta_step=0, max_depth=6, min_child_weight=1, missing=nan,\n",
       "              monotone_constraints='()', n_estimators=100, n_jobs=4,\n",
       "              num_parallel_tree=1, predictor='auto', random_state=0,\n",
       "              reg_alpha=0, reg_lambda=1, scale_pos_weight=1, subsample=1,\n",
       "              tree_method='exact', validate_parameters=1, verbosity=None)"
      ]
     },
     "execution_count": 137,
     "metadata": {},
     "output_type": "execute_result"
    }
   ],
   "source": [
    "boost = XGBClassifier()\n",
    "\n",
    "boost.fit(X_train,y_train)"
   ]
  },
  {
   "cell_type": "code",
   "execution_count": 138,
   "metadata": {},
   "outputs": [],
   "source": [
    "y_pred = boost.predict(X_test)"
   ]
  },
  {
   "cell_type": "markdown",
   "metadata": {},
   "source": [
    "__Prediction avaluations:__\n",
    "- Accuracy\n",
    "- Confusion Matrix\n",
    "- Classification Report"
   ]
  },
  {
   "cell_type": "markdown",
   "metadata": {},
   "source": [
    "__PS: Now I can use accuracy because classes are balanced__"
   ]
  },
  {
   "cell_type": "code",
   "execution_count": 139,
   "metadata": {},
   "outputs": [
    {
     "data": {
      "text/plain": [
       "0.975681763509524"
      ]
     },
     "execution_count": 139,
     "metadata": {},
     "output_type": "execute_result"
    }
   ],
   "source": [
    "accuracy_score(y_pred,y_test)"
   ]
  },
  {
   "cell_type": "markdown",
   "metadata": {},
   "source": [
    "Good result since now its a reliable metric we can trust"
   ]
  },
  {
   "cell_type": "code",
   "execution_count": 140,
   "metadata": {
    "scrolled": false
   },
   "outputs": [
    {
     "name": "stdout",
     "output_type": "stream",
     "text": [
      "Classification report: \n",
      "               precision    recall  f1-score   support\n",
      "\n",
      "           0       0.96      1.00      0.98     23103\n",
      "           1       1.00      0.95      0.97     22624\n",
      "\n",
      "    accuracy                           0.98     45727\n",
      "   macro avg       0.98      0.98      0.98     45727\n",
      "weighted avg       0.98      0.98      0.98     45727\n",
      "\n"
     ]
    }
   ],
   "source": [
    "print('Classification report: \\n', classification_report(y_test,y_pred))"
   ]
  },
  {
   "cell_type": "code",
   "execution_count": 141,
   "metadata": {},
   "outputs": [
    {
     "data": {
      "text/plain": [
       "array([[23061,    42],\n",
       "       [ 1070, 21554]], dtype=int64)"
      ]
     },
     "execution_count": 141,
     "metadata": {},
     "output_type": "execute_result"
    }
   ],
   "source": [
    "cf_matrix = confusion_matrix(y_test,y_pred)\n",
    "\n",
    "confusion_matrix(y_test,y_pred)"
   ]
  },
  {
   "cell_type": "code",
   "execution_count": 142,
   "metadata": {
    "scrolled": true
   },
   "outputs": [
    {
     "data": {
      "image/png": "[encoded data removed]",
      "text/plain": [
       "<Figure size 432x288 with 2 Axes>"
      ]
     },
     "metadata": {
      "needs_background": "light"
     },
     "output_type": "display_data"
    }
   ],
   "source": [
    "sns.heatmap(cf_matrix, annot=True);"
   ]
  },
  {
   "cell_type": "markdown",
   "metadata": {},
   "source": [
    "Clearly the SMOTE technque has increased the performance for predictions\n",
    "\n",
    "__To sum up__:\n",
    "- True Positives increased tremendously, meaning: more cases of fraud detected accurately\n",
    "\n",
    "- True Falses also increased tremendously, meaning: more regular transactions could be made without the false alarme or warning from the system\n",
    "\n",
    "- False Positives increased slightly, meaning: some cases of fraud would be wrongly labelled as fraud therefore cause the system to set unnecessary warnings for these cases\n",
    "\n",
    "- False Negatives increased slightly, meaning: some frauds would pass by as regular legal transactions causing trouble later on"
   ]
  },
  {
   "cell_type": "code",
   "execution_count": null,
   "metadata": {},
   "outputs": [],
   "source": []
  },
  {
   "cell_type": "markdown",
   "metadata": {},
   "source": [
    "### 3rd Loop"
   ]
  },
  {
   "cell_type": "markdown",
   "metadata": {},
   "source": [
    "__Feature Engineering:__\n",
    "- Forcing a balance for classes"
   ]
  },
  {
   "cell_type": "markdown",
   "metadata": {},
   "source": [
    "_From the EDA I know the proportion ratio for the classes nearly 9 - 1 for non fraud to fraud_\n",
    "\n",
    "_So now I'm gona enforce more samples for non fraud cases in a very raw way because I'm running out of time_"
   ]
  },
  {
   "cell_type": "code",
   "execution_count": 64,
   "metadata": {},
   "outputs": [],
   "source": [
    "df_fraud_yes = df[ df['class'] == 1 ]"
   ]
  },
  {
   "cell_type": "code",
   "execution_count": 65,
   "metadata": {},
   "outputs": [
    {
     "data": {
      "text/plain": [
       "108735"
      ]
     },
     "execution_count": 65,
     "metadata": {},
     "output_type": "execute_result"
    }
   ],
   "source": [
    "df[ df['class'] == 0 ].shape[0]"
   ]
  },
  {
   "cell_type": "code",
   "execution_count": 66,
   "metadata": {
    "scrolled": true
   },
   "outputs": [],
   "source": [
    "df_fraud = pd.concat([df_fraud_yes,df_fraud_yes,df_fraud_yes,df_fraud_yes,df_fraud_yes,df_fraud_yes,df_fraud_yes,df_fraud_yes])"
   ]
  },
  {
   "cell_type": "code",
   "execution_count": 67,
   "metadata": {},
   "outputs": [],
   "source": [
    "new_df = pd.concat([df,df_fraud])"
   ]
  },
  {
   "cell_type": "code",
   "execution_count": 68,
   "metadata": {},
   "outputs": [
    {
     "data": {
      "text/plain": [
       "101385"
      ]
     },
     "execution_count": 68,
     "metadata": {},
     "output_type": "execute_result"
    }
   ],
   "source": [
    "(new_df['class'] == 1).sum()"
   ]
  },
  {
   "cell_type": "code",
   "execution_count": 69,
   "metadata": {},
   "outputs": [
    {
     "data": {
      "text/plain": [
       "11265"
      ]
     },
     "execution_count": 69,
     "metadata": {},
     "output_type": "execute_result"
    }
   ],
   "source": [
    "(df['class'] == 1).sum()"
   ]
  },
  {
   "cell_type": "code",
   "execution_count": 70,
   "metadata": {},
   "outputs": [
    {
     "data": {
      "text/plain": [
       "108735"
      ]
     },
     "execution_count": 70,
     "metadata": {},
     "output_type": "execute_result"
    }
   ],
   "source": [
    "(new_df['class'] == 0).sum()"
   ]
  },
  {
   "cell_type": "code",
   "execution_count": 71,
   "metadata": {},
   "outputs": [
    {
     "data": {
      "text/plain": [
       "108735"
      ]
     },
     "execution_count": 71,
     "metadata": {},
     "output_type": "execute_result"
    }
   ],
   "source": [
    "(df['class'] == 0).sum()"
   ]
  },
  {
   "cell_type": "code",
   "execution_count": 72,
   "metadata": {},
   "outputs": [],
   "source": [
    "df = new_df.copy()"
   ]
  },
  {
   "cell_type": "markdown",
   "metadata": {},
   "source": [
    "All checked, classes are nearly balanced\n",
    "Now I'm going for the modelling again"
   ]
  },
  {
   "cell_type": "markdown",
   "metadata": {},
   "source": [
    "__Modelling prediction:__\n",
    "- 3nd modelling"
   ]
  },
  {
   "cell_type": "code",
   "execution_count": 73,
   "metadata": {},
   "outputs": [],
   "source": [
    "X , y = df.drop('class',axis=1), df['class']\n",
    "\n",
    "X_train, X_test, y_train, y_test =  train_test_split(X,y,test_size=0.3,random_state=142)"
   ]
  },
  {
   "cell_type": "code",
   "execution_count": 74,
   "metadata": {
    "scrolled": true
   },
   "outputs": [
    {
     "name": "stderr",
     "output_type": "stream",
     "text": [
      "C:\\Users\\Dell\\anaconda3\\envs\\DataScienceMeigarom\\lib\\site-packages\\xgboost\\sklearn.py:1224: UserWarning: The use of label encoder in XGBClassifier is deprecated and will be removed in a future release. To remove this warning, do the following: 1) Pass option use_label_encoder=False when constructing XGBClassifier object; and 2) Encode your labels (y) as integers starting with 0, i.e. 0, 1, 2, ..., [num_class - 1].\n",
      "  warnings.warn(label_encoder_deprecation_msg, UserWarning)\n"
     ]
    },
    {
     "name": "stdout",
     "output_type": "stream",
     "text": [
      "[19:53:27] WARNING: C:/Users/Administrator/workspace/xgboost-win64_release_1.5.1/src/learner.cc:1115: Starting in XGBoost 1.3.0, the default evaluation metric used with the objective 'binary:logistic' was changed from 'error' to 'logloss'. Explicitly set eval_metric if you'd like to restore the old behavior.\n"
     ]
    },
    {
     "data": {
      "text/plain": [
       "XGBClassifier(base_score=0.5, booster='gbtree', colsample_bylevel=1,\n",
       "              colsample_bynode=1, colsample_bytree=1, enable_categorical=False,\n",
       "              gamma=0, gpu_id=-1, importance_type=None,\n",
       "              interaction_constraints='', learning_rate=0.300000012,\n",
       "              max_delta_step=0, max_depth=6, min_child_weight=1, missing=nan,\n",
       "              monotone_constraints='()', n_estimators=100, n_jobs=4,\n",
       "              num_parallel_tree=1, predictor='auto', random_state=0,\n",
       "              reg_alpha=0, reg_lambda=1, scale_pos_weight=1, subsample=1,\n",
       "              tree_method='exact', validate_parameters=1, verbosity=None)"
      ]
     },
     "execution_count": 74,
     "metadata": {},
     "output_type": "execute_result"
    }
   ],
   "source": [
    "boost = XGBClassifier()\n",
    "\n",
    "boost.fit(X_train,y_train)"
   ]
  },
  {
   "cell_type": "code",
   "execution_count": 75,
   "metadata": {},
   "outputs": [],
   "source": [
    "y_pred = boost.predict(X_test)"
   ]
  },
  {
   "cell_type": "markdown",
   "metadata": {},
   "source": [
    "__Prediction avaluations:__\n",
    "- Accuracy\n",
    "- Confusion Matrix\n",
    "- Classification Report"
   ]
  },
  {
   "cell_type": "markdown",
   "metadata": {},
   "source": [
    "__PS: Now I can use accuracy because classes are balanced__"
   ]
  },
  {
   "cell_type": "code",
   "execution_count": 76,
   "metadata": {},
   "outputs": [
    {
     "data": {
      "text/plain": [
       "0.8247350720223364"
      ]
     },
     "execution_count": 76,
     "metadata": {},
     "output_type": "execute_result"
    }
   ],
   "source": [
    "accuracy_score(y_pred,y_test)"
   ]
  },
  {
   "cell_type": "markdown",
   "metadata": {},
   "source": [
    "Good result since now its a reliable metric we can trust"
   ]
  },
  {
   "cell_type": "code",
   "execution_count": 77,
   "metadata": {
    "scrolled": false
   },
   "outputs": [
    {
     "name": "stdout",
     "output_type": "stream",
     "text": [
      "Classification report: \n",
      "               precision    recall  f1-score   support\n",
      "\n",
      "           0       0.75      0.98      0.85     32713\n",
      "           1       0.97      0.65      0.78     30323\n",
      "\n",
      "    accuracy                           0.82     63036\n",
      "   macro avg       0.86      0.82      0.82     63036\n",
      "weighted avg       0.86      0.82      0.82     63036\n",
      "\n"
     ]
    }
   ],
   "source": [
    "print('Classification report: \\n', classification_report(y_test,y_pred))"
   ]
  },
  {
   "cell_type": "code",
   "execution_count": 78,
   "metadata": {},
   "outputs": [
    {
     "data": {
      "text/plain": [
       "array([[32151,   562],\n",
       "       [10486, 19837]], dtype=int64)"
      ]
     },
     "execution_count": 78,
     "metadata": {},
     "output_type": "execute_result"
    }
   ],
   "source": [
    "cf_matrix = confusion_matrix(y_test,y_pred)\n",
    "\n",
    "confusion_matrix(y_test,y_pred)"
   ]
  },
  {
   "cell_type": "code",
   "execution_count": 79,
   "metadata": {
    "scrolled": false
   },
   "outputs": [
    {
     "data": {
      "image/png": "[encoded data removed]",
      "text/plain": [
       "<Figure size 432x288 with 2 Axes>"
      ]
     },
     "metadata": {
      "needs_background": "light"
     },
     "output_type": "display_data"
    }
   ],
   "source": [
    "sns.heatmap(cf_matrix, annot=True);"
   ]
  },
  {
   "cell_type": "markdown",
   "metadata": {},
   "source": [
    "__Conclusions:__ \n",
    "\n",
    "- _The number of true positives and true negatives has increased significantly, meaning: way more fraudes would be detected_\n",
    "\n",
    "- _Also, the number of false positives and false negatives has also increased significantly, meaning: some people would be bothered because their transactions were considere fraudulent by mistake, and also some of the real frauds would pass by unnoticed_\n",
    "\n",
    "- _The price to improve the performance of true positives and true negatives was too high. It's not worth it_\n",
    "\n",
    "- _SMOTE oversampling gave a better result_"
   ]
  },
  {
   "cell_type": "code",
   "execution_count": null,
   "metadata": {},
   "outputs": [],
   "source": []
  },
  {
   "cell_type": "markdown",
   "metadata": {},
   "source": [
    "### 4th Loop"
   ]
  },
  {
   "cell_type": "markdown",
   "metadata": {},
   "source": [
    "__Feature Engineering:__\n",
    "- Feature Selection"
   ]
  },
  {
   "cell_type": "code",
   "execution_count": 144,
   "metadata": {},
   "outputs": [
    {
     "data": {
      "text/plain": [
       "RandomForestClassifier(random_state=142)"
      ]
     },
     "execution_count": 144,
     "metadata": {},
     "output_type": "execute_result"
    }
   ],
   "source": [
    "forest = RandomForestClassifier(random_state=142)\n",
    "forest.fit(X_train_smote, y_train_smote)"
   ]
  },
  {
   "cell_type": "code",
   "execution_count": 145,
   "metadata": {},
   "outputs": [],
   "source": [
    "importances = forest.feature_importances_"
   ]
  },
  {
   "cell_type": "code",
   "execution_count": 153,
   "metadata": {},
   "outputs": [
    {
     "data": {
      "text/html": [
       "<div>\n",
       "<style scoped>\n",
       "    .dataframe tbody tr th:only-of-type {\n",
       "        vertical-align: middle;\n",
       "    }\n",
       "\n",
       "    .dataframe tbody tr th {\n",
       "        vertical-align: top;\n",
       "    }\n",
       "\n",
       "    .dataframe thead th {\n",
       "        text-align: right;\n",
       "    }\n",
       "</style>\n",
       "<table border=\"1\" class=\"dataframe\">\n",
       "  <thead>\n",
       "    <tr style=\"text-align: right;\">\n",
       "      <th></th>\n",
       "      <th>importance</th>\n",
       "    </tr>\n",
       "  </thead>\n",
       "  <tbody>\n",
       "    <tr>\n",
       "      <th>purchase_date_month</th>\n",
       "      <td>24.051080</td>\n",
       "    </tr>\n",
       "    <tr>\n",
       "      <th>signup_date_month</th>\n",
       "      <td>12.082406</td>\n",
       "    </tr>\n",
       "    <tr>\n",
       "      <th>source_3</th>\n",
       "      <td>6.920589</td>\n",
       "    </tr>\n",
       "    <tr>\n",
       "      <th>purchase_date_day</th>\n",
       "      <td>6.177721</td>\n",
       "    </tr>\n",
       "    <tr>\n",
       "      <th>source_2</th>\n",
       "      <td>5.843738</td>\n",
       "    </tr>\n",
       "    <tr>\n",
       "      <th>browser_1</th>\n",
       "      <td>5.751497</td>\n",
       "    </tr>\n",
       "    <tr>\n",
       "      <th>sex_2</th>\n",
       "      <td>5.694560</td>\n",
       "    </tr>\n",
       "    <tr>\n",
       "      <th>source_1</th>\n",
       "      <td>5.204612</td>\n",
       "    </tr>\n",
       "    <tr>\n",
       "      <th>signup_date_day</th>\n",
       "      <td>4.960536</td>\n",
       "    </tr>\n",
       "    <tr>\n",
       "      <th>sex_1</th>\n",
       "      <td>4.616287</td>\n",
       "    </tr>\n",
       "    <tr>\n",
       "      <th>browser_2</th>\n",
       "      <td>4.523879</td>\n",
       "    </tr>\n",
       "    <tr>\n",
       "      <th>browser_3</th>\n",
       "      <td>2.502674</td>\n",
       "    </tr>\n",
       "    <tr>\n",
       "      <th>ip_address</th>\n",
       "      <td>2.310935</td>\n",
       "    </tr>\n",
       "    <tr>\n",
       "      <th>browser_4</th>\n",
       "      <td>2.132632</td>\n",
       "    </tr>\n",
       "    <tr>\n",
       "      <th>signup_date_hour</th>\n",
       "      <td>1.797007</td>\n",
       "    </tr>\n",
       "    <tr>\n",
       "      <th>purchase_value</th>\n",
       "      <td>1.757679</td>\n",
       "    </tr>\n",
       "    <tr>\n",
       "      <th>purchase_date_hour</th>\n",
       "      <td>1.693433</td>\n",
       "    </tr>\n",
       "    <tr>\n",
       "      <th>age</th>\n",
       "      <td>1.626778</td>\n",
       "    </tr>\n",
       "    <tr>\n",
       "      <th>browser_5</th>\n",
       "      <td>0.351957</td>\n",
       "    </tr>\n",
       "  </tbody>\n",
       "</table>\n",
       "</div>"
      ],
      "text/plain": [
       "                     importance\n",
       "purchase_date_month   24.051080\n",
       "signup_date_month     12.082406\n",
       "source_3               6.920589\n",
       "purchase_date_day      6.177721\n",
       "source_2               5.843738\n",
       "browser_1              5.751497\n",
       "sex_2                  5.694560\n",
       "source_1               5.204612\n",
       "signup_date_day        4.960536\n",
       "sex_1                  4.616287\n",
       "browser_2              4.523879\n",
       "browser_3              2.502674\n",
       "ip_address             2.310935\n",
       "browser_4              2.132632\n",
       "signup_date_hour       1.797007\n",
       "purchase_value         1.757679\n",
       "purchase_date_hour     1.693433\n",
       "age                    1.626778\n",
       "browser_5              0.351957"
      ]
     },
     "execution_count": 153,
     "metadata": {},
     "output_type": "execute_result"
    }
   ],
   "source": [
    "feature_importances = pd.DataFrame(forest.feature_importances_,\n",
    "             index=X_train_smote.columns,\n",
    "             columns=['importance']).sort_values('importance',ascending=False)\n",
    "\n",
    "feature_importances * 100"
   ]
  },
  {
   "cell_type": "markdown",
   "metadata": {},
   "source": [
    "Now I'm gonna use only the features that have 5% or more importance"
   ]
  },
  {
   "cell_type": "code",
   "execution_count": 160,
   "metadata": {},
   "outputs": [
    {
     "data": {
      "text/plain": [
       "Index(['purchase_date_month', 'signup_date_month', 'source_3',\n",
       "       'purchase_date_day', 'source_2', 'browser_1', 'sex_2', 'source_1'],\n",
       "      dtype='object')"
      ]
     },
     "execution_count": 160,
     "metadata": {},
     "output_type": "execute_result"
    }
   ],
   "source": [
    "feature_importances[ feature_importances * 100 >= 5. ].dropna().index"
   ]
  },
  {
   "cell_type": "code",
   "execution_count": 161,
   "metadata": {},
   "outputs": [
    {
     "data": {
      "text/html": [
       "<div>\n",
       "<style scoped>\n",
       "    .dataframe tbody tr th:only-of-type {\n",
       "        vertical-align: middle;\n",
       "    }\n",
       "\n",
       "    .dataframe tbody tr th {\n",
       "        vertical-align: top;\n",
       "    }\n",
       "\n",
       "    .dataframe thead th {\n",
       "        text-align: right;\n",
       "    }\n",
       "</style>\n",
       "<table border=\"1\" class=\"dataframe\">\n",
       "  <thead>\n",
       "    <tr style=\"text-align: right;\">\n",
       "      <th></th>\n",
       "      <th>purchase_date_month</th>\n",
       "      <th>signup_date_month</th>\n",
       "      <th>source_3</th>\n",
       "      <th>purchase_date_day</th>\n",
       "      <th>source_2</th>\n",
       "      <th>browser_1</th>\n",
       "      <th>sex_2</th>\n",
       "      <th>source_1</th>\n",
       "    </tr>\n",
       "  </thead>\n",
       "  <tbody>\n",
       "    <tr>\n",
       "      <th>0</th>\n",
       "      <td>7.00000</td>\n",
       "      <td>3.000000</td>\n",
       "      <td>1.000000</td>\n",
       "      <td>16.000000</td>\n",
       "      <td>0.000000</td>\n",
       "      <td>0.000000</td>\n",
       "      <td>0.000000</td>\n",
       "      <td>0.000000</td>\n",
       "    </tr>\n",
       "    <tr>\n",
       "      <th>1</th>\n",
       "      <td>7.00000</td>\n",
       "      <td>5.000000</td>\n",
       "      <td>1.000000</td>\n",
       "      <td>29.000000</td>\n",
       "      <td>0.000000</td>\n",
       "      <td>1.000000</td>\n",
       "      <td>0.000000</td>\n",
       "      <td>0.000000</td>\n",
       "    </tr>\n",
       "    <tr>\n",
       "      <th>2</th>\n",
       "      <td>5.00000</td>\n",
       "      <td>4.000000</td>\n",
       "      <td>0.000000</td>\n",
       "      <td>11.000000</td>\n",
       "      <td>0.000000</td>\n",
       "      <td>0.000000</td>\n",
       "      <td>1.000000</td>\n",
       "      <td>1.000000</td>\n",
       "    </tr>\n",
       "    <tr>\n",
       "      <th>3</th>\n",
       "      <td>6.00000</td>\n",
       "      <td>4.000000</td>\n",
       "      <td>1.000000</td>\n",
       "      <td>28.000000</td>\n",
       "      <td>0.000000</td>\n",
       "      <td>1.000000</td>\n",
       "      <td>1.000000</td>\n",
       "      <td>0.000000</td>\n",
       "    </tr>\n",
       "    <tr>\n",
       "      <th>4</th>\n",
       "      <td>9.00000</td>\n",
       "      <td>8.000000</td>\n",
       "      <td>0.000000</td>\n",
       "      <td>11.000000</td>\n",
       "      <td>1.000000</td>\n",
       "      <td>0.000000</td>\n",
       "      <td>0.000000</td>\n",
       "      <td>0.000000</td>\n",
       "    </tr>\n",
       "    <tr>\n",
       "      <th>...</th>\n",
       "      <td>...</td>\n",
       "      <td>...</td>\n",
       "      <td>...</td>\n",
       "      <td>...</td>\n",
       "      <td>...</td>\n",
       "      <td>...</td>\n",
       "      <td>...</td>\n",
       "      <td>...</td>\n",
       "    </tr>\n",
       "    <tr>\n",
       "      <th>152417</th>\n",
       "      <td>1.00000</td>\n",
       "      <td>1.000000</td>\n",
       "      <td>0.000000</td>\n",
       "      <td>12.000000</td>\n",
       "      <td>0.000000</td>\n",
       "      <td>0.000000</td>\n",
       "      <td>0.000000</td>\n",
       "      <td>1.000000</td>\n",
       "    </tr>\n",
       "    <tr>\n",
       "      <th>152418</th>\n",
       "      <td>3.30356</td>\n",
       "      <td>2.303560</td>\n",
       "      <td>0.060712</td>\n",
       "      <td>6.939288</td>\n",
       "      <td>0.939288</td>\n",
       "      <td>1.000000</td>\n",
       "      <td>1.000000</td>\n",
       "      <td>0.000000</td>\n",
       "    </tr>\n",
       "    <tr>\n",
       "      <th>152419</th>\n",
       "      <td>2.88729</td>\n",
       "      <td>2.572742</td>\n",
       "      <td>0.314548</td>\n",
       "      <td>14.338129</td>\n",
       "      <td>0.685452</td>\n",
       "      <td>0.685452</td>\n",
       "      <td>1.000000</td>\n",
       "      <td>0.000000</td>\n",
       "    </tr>\n",
       "    <tr>\n",
       "      <th>152420</th>\n",
       "      <td>1.00000</td>\n",
       "      <td>1.000000</td>\n",
       "      <td>0.883009</td>\n",
       "      <td>10.830094</td>\n",
       "      <td>0.000000</td>\n",
       "      <td>0.116991</td>\n",
       "      <td>0.883009</td>\n",
       "      <td>0.116991</td>\n",
       "    </tr>\n",
       "    <tr>\n",
       "      <th>152421</th>\n",
       "      <td>1.00000</td>\n",
       "      <td>1.000000</td>\n",
       "      <td>1.000000</td>\n",
       "      <td>11.000000</td>\n",
       "      <td>0.000000</td>\n",
       "      <td>1.000000</td>\n",
       "      <td>0.000000</td>\n",
       "      <td>0.000000</td>\n",
       "    </tr>\n",
       "  </tbody>\n",
       "</table>\n",
       "<p>152422 rows × 8 columns</p>\n",
       "</div>"
      ],
      "text/plain": [
       "        purchase_date_month  signup_date_month  source_3  purchase_date_day  \\\n",
       "0                   7.00000           3.000000  1.000000          16.000000   \n",
       "1                   7.00000           5.000000  1.000000          29.000000   \n",
       "2                   5.00000           4.000000  0.000000          11.000000   \n",
       "3                   6.00000           4.000000  1.000000          28.000000   \n",
       "4                   9.00000           8.000000  0.000000          11.000000   \n",
       "...                     ...                ...       ...                ...   \n",
       "152417              1.00000           1.000000  0.000000          12.000000   \n",
       "152418              3.30356           2.303560  0.060712           6.939288   \n",
       "152419              2.88729           2.572742  0.314548          14.338129   \n",
       "152420              1.00000           1.000000  0.883009          10.830094   \n",
       "152421              1.00000           1.000000  1.000000          11.000000   \n",
       "\n",
       "        source_2  browser_1     sex_2  source_1  \n",
       "0       0.000000   0.000000  0.000000  0.000000  \n",
       "1       0.000000   1.000000  0.000000  0.000000  \n",
       "2       0.000000   0.000000  1.000000  1.000000  \n",
       "3       0.000000   1.000000  1.000000  0.000000  \n",
       "4       1.000000   0.000000  0.000000  0.000000  \n",
       "...          ...        ...       ...       ...  \n",
       "152417  0.000000   0.000000  0.000000  1.000000  \n",
       "152418  0.939288   1.000000  1.000000  0.000000  \n",
       "152419  0.685452   0.685452  1.000000  0.000000  \n",
       "152420  0.000000   0.116991  0.883009  0.116991  \n",
       "152421  0.000000   1.000000  0.000000  0.000000  \n",
       "\n",
       "[152422 rows x 8 columns]"
      ]
     },
     "execution_count": 161,
     "metadata": {},
     "output_type": "execute_result"
    }
   ],
   "source": [
    "X_train_smote[['purchase_date_month', 'signup_date_month', 'source_3',\n",
    "       'purchase_date_day', 'source_2', 'browser_1', 'sex_2', 'source_1']]"
   ]
  },
  {
   "cell_type": "code",
   "execution_count": 162,
   "metadata": {},
   "outputs": [],
   "source": [
    "X_train, X_test, y_train, y_test = train_test_split(X_train_smote[['purchase_date_month', 'signup_date_month', 'source_3',\n",
    "       'purchase_date_day', 'source_2', 'browser_1', 'sex_2', 'source_1']],y_train_smote,test_size=0.3,random_state=142)"
   ]
  },
  {
   "cell_type": "markdown",
   "metadata": {},
   "source": [
    "__Modelling prediction:__"
   ]
  },
  {
   "cell_type": "code",
   "execution_count": 163,
   "metadata": {
    "scrolled": true
   },
   "outputs": [
    {
     "name": "stderr",
     "output_type": "stream",
     "text": [
      "C:\\Users\\Dell\\anaconda3\\envs\\DataScienceMeigarom\\lib\\site-packages\\xgboost\\sklearn.py:1224: UserWarning: The use of label encoder in XGBClassifier is deprecated and will be removed in a future release. To remove this warning, do the following: 1) Pass option use_label_encoder=False when constructing XGBClassifier object; and 2) Encode your labels (y) as integers starting with 0, i.e. 0, 1, 2, ..., [num_class - 1].\n",
      "  warnings.warn(label_encoder_deprecation_msg, UserWarning)\n"
     ]
    },
    {
     "name": "stdout",
     "output_type": "stream",
     "text": [
      "[20:17:42] WARNING: C:/Users/Administrator/workspace/xgboost-win64_release_1.5.1/src/learner.cc:1115: Starting in XGBoost 1.3.0, the default evaluation metric used with the objective 'binary:logistic' was changed from 'error' to 'logloss'. Explicitly set eval_metric if you'd like to restore the old behavior.\n"
     ]
    },
    {
     "data": {
      "text/plain": [
       "XGBClassifier(base_score=0.5, booster='gbtree', colsample_bylevel=1,\n",
       "              colsample_bynode=1, colsample_bytree=1, enable_categorical=False,\n",
       "              gamma=0, gpu_id=-1, importance_type=None,\n",
       "              interaction_constraints='', learning_rate=0.300000012,\n",
       "              max_delta_step=0, max_depth=6, min_child_weight=1, missing=nan,\n",
       "              monotone_constraints='()', n_estimators=100, n_jobs=4,\n",
       "              num_parallel_tree=1, predictor='auto', random_state=0,\n",
       "              reg_alpha=0, reg_lambda=1, scale_pos_weight=1, subsample=1,\n",
       "              tree_method='exact', validate_parameters=1, verbosity=None)"
      ]
     },
     "execution_count": 163,
     "metadata": {},
     "output_type": "execute_result"
    }
   ],
   "source": [
    "boost = XGBClassifier()\n",
    "\n",
    "boost.fit(X_train,y_train)"
   ]
  },
  {
   "cell_type": "code",
   "execution_count": 164,
   "metadata": {},
   "outputs": [],
   "source": [
    "y_pred = boost.predict(X_test)"
   ]
  },
  {
   "cell_type": "markdown",
   "metadata": {},
   "source": [
    "__Prediction avaluations:__\n",
    "- Accuracy\n",
    "- Confusion Matrix\n",
    "- Classification Report"
   ]
  },
  {
   "cell_type": "markdown",
   "metadata": {},
   "source": [
    "__PS: Now I can use accuracy because classes are balanced__"
   ]
  },
  {
   "cell_type": "code",
   "execution_count": 165,
   "metadata": {},
   "outputs": [
    {
     "data": {
      "text/plain": [
       "0.9745664487064535"
      ]
     },
     "execution_count": 165,
     "metadata": {},
     "output_type": "execute_result"
    }
   ],
   "source": [
    "accuracy_score(y_pred,y_test)"
   ]
  },
  {
   "cell_type": "markdown",
   "metadata": {},
   "source": [
    "Good result since now its a reliable metric we can trust"
   ]
  },
  {
   "cell_type": "code",
   "execution_count": 166,
   "metadata": {
    "scrolled": false
   },
   "outputs": [
    {
     "name": "stdout",
     "output_type": "stream",
     "text": [
      "Classification report: \n",
      "               precision    recall  f1-score   support\n",
      "\n",
      "           0       0.96      1.00      0.98     23103\n",
      "           1       1.00      0.95      0.97     22624\n",
      "\n",
      "    accuracy                           0.97     45727\n",
      "   macro avg       0.98      0.97      0.97     45727\n",
      "weighted avg       0.98      0.97      0.97     45727\n",
      "\n"
     ]
    }
   ],
   "source": [
    "print('Classification report: \\n', classification_report(y_test,y_pred))"
   ]
  },
  {
   "cell_type": "code",
   "execution_count": 167,
   "metadata": {},
   "outputs": [
    {
     "data": {
      "text/plain": [
       "array([[23013,    90],\n",
       "       [ 1073, 21551]], dtype=int64)"
      ]
     },
     "execution_count": 167,
     "metadata": {},
     "output_type": "execute_result"
    }
   ],
   "source": [
    "cf_matrix = confusion_matrix(y_test,y_pred)\n",
    "\n",
    "confusion_matrix(y_test,y_pred)"
   ]
  },
  {
   "cell_type": "code",
   "execution_count": 168,
   "metadata": {
    "scrolled": false
   },
   "outputs": [
    {
     "data": {
      "image/png": "[encoded data removed]",
      "text/plain": [
       "<Figure size 432x288 with 2 Axes>"
      ]
     },
     "metadata": {
      "needs_background": "light"
     },
     "output_type": "display_data"
    }
   ],
   "source": [
    "sns.heatmap(cf_matrix, annot=True);"
   ]
  },
  {
   "cell_type": "markdown",
   "metadata": {},
   "source": [
    "__Conclusions:__ \n",
    "\n",
    "- The number of false positives increased and the other predictions didn't improved. \n",
    "\n",
    "- Last loop: I'm gonna try CatBoost model since there are many categorical features envolved in this problem"
   ]
  },
  {
   "cell_type": "code",
   "execution_count": null,
   "metadata": {},
   "outputs": [],
   "source": []
  },
  {
   "cell_type": "markdown",
   "metadata": {},
   "source": [
    "### 5th Loop"
   ]
  },
  {
   "cell_type": "markdown",
   "metadata": {},
   "source": [
    "__Modelling prediction:__\n",
    " - Use catboost (many features are categorical)"
   ]
  },
  {
   "cell_type": "markdown",
   "metadata": {},
   "source": [
    "Preparing the original dataset to be used properly for catboost model"
   ]
  },
  {
   "cell_type": "code",
   "execution_count": 67,
   "metadata": {
    "scrolled": true
   },
   "outputs": [
    {
     "data": {
      "text/html": [
       "<div>\n",
       "<style scoped>\n",
       "    .dataframe tbody tr th:only-of-type {\n",
       "        vertical-align: middle;\n",
       "    }\n",
       "\n",
       "    .dataframe tbody tr th {\n",
       "        vertical-align: top;\n",
       "    }\n",
       "\n",
       "    .dataframe thead th {\n",
       "        text-align: right;\n",
       "    }\n",
       "</style>\n",
       "<table border=\"1\" class=\"dataframe\">\n",
       "  <thead>\n",
       "    <tr style=\"text-align: right;\">\n",
       "      <th></th>\n",
       "      <th>Unnamed: 0</th>\n",
       "      <th>user_id</th>\n",
       "      <th>signup_time</th>\n",
       "      <th>purchase_time</th>\n",
       "      <th>purchase_value</th>\n",
       "      <th>device_id</th>\n",
       "      <th>source</th>\n",
       "      <th>browser</th>\n",
       "      <th>sex</th>\n",
       "      <th>age</th>\n",
       "      <th>ip_address</th>\n",
       "      <th>class</th>\n",
       "    </tr>\n",
       "  </thead>\n",
       "  <tbody>\n",
       "    <tr>\n",
       "      <th>0</th>\n",
       "      <td>149671</td>\n",
       "      <td>285108</td>\n",
       "      <td>7/15/2015 4:36</td>\n",
       "      <td>9/10/2015 14:17</td>\n",
       "      <td>31</td>\n",
       "      <td>HZAKVUFTDOSFD</td>\n",
       "      <td>Direct</td>\n",
       "      <td>Chrome</td>\n",
       "      <td>M</td>\n",
       "      <td>49</td>\n",
       "      <td>2.818400e+09</td>\n",
       "      <td>0</td>\n",
       "    </tr>\n",
       "    <tr>\n",
       "      <th>1</th>\n",
       "      <td>15611</td>\n",
       "      <td>131009</td>\n",
       "      <td>1/24/2015 12:29</td>\n",
       "      <td>4/13/2015 4:53</td>\n",
       "      <td>31</td>\n",
       "      <td>XGQAJSOUJIZCC</td>\n",
       "      <td>SEO</td>\n",
       "      <td>IE</td>\n",
       "      <td>F</td>\n",
       "      <td>21</td>\n",
       "      <td>3.251268e+09</td>\n",
       "      <td>0</td>\n",
       "    </tr>\n",
       "    <tr>\n",
       "      <th>2</th>\n",
       "      <td>73178</td>\n",
       "      <td>328855</td>\n",
       "      <td>3/11/2015 0:54</td>\n",
       "      <td>4/5/2015 12:23</td>\n",
       "      <td>16</td>\n",
       "      <td>VCCTAYDCWKZIY</td>\n",
       "      <td>Direct</td>\n",
       "      <td>IE</td>\n",
       "      <td>M</td>\n",
       "      <td>26</td>\n",
       "      <td>2.727760e+09</td>\n",
       "      <td>0</td>\n",
       "    </tr>\n",
       "    <tr>\n",
       "      <th>3</th>\n",
       "      <td>84546</td>\n",
       "      <td>229053</td>\n",
       "      <td>1/7/2015 13:19</td>\n",
       "      <td>1/9/2015 10:12</td>\n",
       "      <td>29</td>\n",
       "      <td>MFFIHYNXCJLEY</td>\n",
       "      <td>SEO</td>\n",
       "      <td>Chrome</td>\n",
       "      <td>M</td>\n",
       "      <td>34</td>\n",
       "      <td>2.083420e+09</td>\n",
       "      <td>0</td>\n",
       "    </tr>\n",
       "    <tr>\n",
       "      <th>4</th>\n",
       "      <td>35978</td>\n",
       "      <td>108439</td>\n",
       "      <td>2/8/2015 21:11</td>\n",
       "      <td>4/9/2015 14:26</td>\n",
       "      <td>26</td>\n",
       "      <td>WMSXWGVPNIFBM</td>\n",
       "      <td>Ads</td>\n",
       "      <td>FireFox</td>\n",
       "      <td>M</td>\n",
       "      <td>33</td>\n",
       "      <td>3.207913e+09</td>\n",
       "      <td>0</td>\n",
       "    </tr>\n",
       "  </tbody>\n",
       "</table>\n",
       "</div>"
      ],
      "text/plain": [
       "   Unnamed: 0  user_id      signup_time    purchase_time  purchase_value  \\\n",
       "0      149671   285108   7/15/2015 4:36  9/10/2015 14:17              31   \n",
       "1       15611   131009  1/24/2015 12:29   4/13/2015 4:53              31   \n",
       "2       73178   328855   3/11/2015 0:54   4/5/2015 12:23              16   \n",
       "3       84546   229053   1/7/2015 13:19   1/9/2015 10:12              29   \n",
       "4       35978   108439   2/8/2015 21:11   4/9/2015 14:26              26   \n",
       "\n",
       "       device_id  source  browser sex  age    ip_address  class  \n",
       "0  HZAKVUFTDOSFD  Direct   Chrome   M   49  2.818400e+09      0  \n",
       "1  XGQAJSOUJIZCC     SEO       IE   F   21  3.251268e+09      0  \n",
       "2  VCCTAYDCWKZIY  Direct       IE   M   26  2.727760e+09      0  \n",
       "3  MFFIHYNXCJLEY     SEO   Chrome   M   34  2.083420e+09      0  \n",
       "4  WMSXWGVPNIFBM     Ads  FireFox   M   33  3.207913e+09      0  "
      ]
     },
     "execution_count": 67,
     "metadata": {},
     "output_type": "execute_result"
    }
   ],
   "source": [
    "df = pd.read_csv('Candidate_tech_evaluation_candidate_copy_data science_fraud.csv')\n",
    "\n",
    "df.head(5)"
   ]
  },
  {
   "cell_type": "code",
   "execution_count": 68,
   "metadata": {},
   "outputs": [],
   "source": [
    "# Unwanted column has to be dismissed\n",
    "df.drop(df.columns[0],axis=1,inplace=True)"
   ]
  },
  {
   "cell_type": "code",
   "execution_count": 69,
   "metadata": {},
   "outputs": [],
   "source": [
    "df.drop('device_id',axis=1,inplace=True)"
   ]
  },
  {
   "cell_type": "code",
   "execution_count": 70,
   "metadata": {},
   "outputs": [
    {
     "data": {
      "text/html": [
       "<div>\n",
       "<style scoped>\n",
       "    .dataframe tbody tr th:only-of-type {\n",
       "        vertical-align: middle;\n",
       "    }\n",
       "\n",
       "    .dataframe tbody tr th {\n",
       "        vertical-align: top;\n",
       "    }\n",
       "\n",
       "    .dataframe thead th {\n",
       "        text-align: right;\n",
       "    }\n",
       "</style>\n",
       "<table border=\"1\" class=\"dataframe\">\n",
       "  <thead>\n",
       "    <tr style=\"text-align: right;\">\n",
       "      <th></th>\n",
       "      <th>signup_time</th>\n",
       "      <th>purchase_time</th>\n",
       "      <th>purchase_value</th>\n",
       "      <th>source</th>\n",
       "      <th>browser</th>\n",
       "      <th>sex</th>\n",
       "      <th>age</th>\n",
       "      <th>ip_address</th>\n",
       "      <th>class</th>\n",
       "    </tr>\n",
       "  </thead>\n",
       "  <tbody>\n",
       "    <tr>\n",
       "      <th>0</th>\n",
       "      <td>7/15/2015 4:36</td>\n",
       "      <td>9/10/2015 14:17</td>\n",
       "      <td>31</td>\n",
       "      <td>Direct</td>\n",
       "      <td>Chrome</td>\n",
       "      <td>M</td>\n",
       "      <td>49</td>\n",
       "      <td>2.818400e+09</td>\n",
       "      <td>0</td>\n",
       "    </tr>\n",
       "    <tr>\n",
       "      <th>1</th>\n",
       "      <td>1/24/2015 12:29</td>\n",
       "      <td>4/13/2015 4:53</td>\n",
       "      <td>31</td>\n",
       "      <td>SEO</td>\n",
       "      <td>IE</td>\n",
       "      <td>F</td>\n",
       "      <td>21</td>\n",
       "      <td>3.251268e+09</td>\n",
       "      <td>0</td>\n",
       "    </tr>\n",
       "    <tr>\n",
       "      <th>2</th>\n",
       "      <td>3/11/2015 0:54</td>\n",
       "      <td>4/5/2015 12:23</td>\n",
       "      <td>16</td>\n",
       "      <td>Direct</td>\n",
       "      <td>IE</td>\n",
       "      <td>M</td>\n",
       "      <td>26</td>\n",
       "      <td>2.727760e+09</td>\n",
       "      <td>0</td>\n",
       "    </tr>\n",
       "  </tbody>\n",
       "</table>\n",
       "</div>"
      ],
      "text/plain": [
       "       signup_time    purchase_time  purchase_value  source browser sex  age  \\\n",
       "0   7/15/2015 4:36  9/10/2015 14:17              31  Direct  Chrome   M   49   \n",
       "1  1/24/2015 12:29   4/13/2015 4:53              31     SEO      IE   F   21   \n",
       "2   3/11/2015 0:54   4/5/2015 12:23              16  Direct      IE   M   26   \n",
       "\n",
       "     ip_address  class  \n",
       "0  2.818400e+09      0  \n",
       "1  3.251268e+09      0  \n",
       "2  2.727760e+09      0  "
      ]
     },
     "execution_count": 70,
     "metadata": {},
     "output_type": "execute_result"
    }
   ],
   "source": [
    "df.drop('user_id',axis=1,inplace=True)\n",
    "\n",
    "df.head(3)"
   ]
  },
  {
   "cell_type": "markdown",
   "metadata": {},
   "source": [
    "- __Breaking the date columns__"
   ]
  },
  {
   "cell_type": "code",
   "execution_count": 71,
   "metadata": {},
   "outputs": [
    {
     "data": {
      "text/plain": [
       "0    7/15/2015\n",
       "1    1/24/2015\n",
       "2    3/11/2015\n",
       "Name: signup_date, dtype: object"
      ]
     },
     "execution_count": 71,
     "metadata": {},
     "output_type": "execute_result"
    }
   ],
   "source": [
    "df['signup_date'] = df['signup_time'].apply(lambda x: x.split(' ')[0].strip())\n",
    "\n",
    "df['signup_date'].head(3)"
   ]
  },
  {
   "cell_type": "code",
   "execution_count": 72,
   "metadata": {},
   "outputs": [
    {
     "data": {
      "text/plain": [
       "0     4:36\n",
       "1    12:29\n",
       "2     0:54\n",
       "Name: signup_date_hour, dtype: object"
      ]
     },
     "execution_count": 72,
     "metadata": {},
     "output_type": "execute_result"
    }
   ],
   "source": [
    "df['signup_date_hour'] = df['signup_time'].apply(lambda x: x.split(' ')[1].strip())\n",
    "\n",
    "df['signup_date_hour'].head(3)"
   ]
  },
  {
   "cell_type": "code",
   "execution_count": 73,
   "metadata": {},
   "outputs": [
    {
     "data": {
      "text/plain": [
       "array([ 4, 12,  0, 13, 21, 20,  7,  1, 16,  2, 11,  5, 15,  6, 23, 17, 22,\n",
       "       19, 18, 14, 10,  3,  9,  8])"
      ]
     },
     "execution_count": 73,
     "metadata": {},
     "output_type": "execute_result"
    }
   ],
   "source": [
    "df['signup_date_hour'] = df['signup_date_hour'].apply(lambda x: x.split(':')[0].strip())\n",
    "\n",
    "df['signup_date_hour'] = df['signup_date_hour'].astype('int')\n",
    "\n",
    "df['signup_date_hour'].unique()"
   ]
  },
  {
   "cell_type": "code",
   "execution_count": 74,
   "metadata": {},
   "outputs": [
    {
     "data": {
      "text/plain": [
       "array([15, 24, 11,  7,  8, 20, 30, 10,  5, 23, 12, 21, 17,  6,  2, 18, 29,\n",
       "       28, 27, 14, 26, 19,  4, 22, 13,  1,  3,  9, 16, 25, 31])"
      ]
     },
     "execution_count": 74,
     "metadata": {},
     "output_type": "execute_result"
    }
   ],
   "source": [
    "df['signup_date_day'] = df['signup_date'].apply(lambda x: x.split('/')[1].strip())\n",
    "\n",
    "df['signup_date_day'] = df['signup_date_day'].astype('int')\n",
    "\n",
    "df['signup_date_day'].unique()"
   ]
  },
  {
   "cell_type": "code",
   "execution_count": 75,
   "metadata": {},
   "outputs": [
    {
     "data": {
      "text/plain": [
       "array([7, 1, 3, 2, 4, 6, 5, 8])"
      ]
     },
     "execution_count": 75,
     "metadata": {},
     "output_type": "execute_result"
    }
   ],
   "source": [
    "df['signup_date_month'] = df['signup_date'].apply(lambda x: x.split('/')[0].strip())\n",
    "\n",
    "df['signup_date_month'] = df['signup_date_month'].astype('int')\n",
    "\n",
    "df['signup_date_month'].unique()"
   ]
  },
  {
   "cell_type": "code",
   "execution_count": 76,
   "metadata": {
    "scrolled": true
   },
   "outputs": [
    {
     "data": {
      "text/plain": [
       "array([15, 24, 11,  7,  8, 20, 30, 10,  5, 23, 12, 21, 17,  6,  2, 18, 29,\n",
       "       28, 27, 14, 26, 19,  4, 22, 13,  1,  3,  9, 16, 25, 31])"
      ]
     },
     "execution_count": 76,
     "metadata": {},
     "output_type": "execute_result"
    }
   ],
   "source": [
    "df['signup_date_day'].unique()"
   ]
  },
  {
   "cell_type": "code",
   "execution_count": 77,
   "metadata": {},
   "outputs": [
    {
     "data": {
      "text/plain": [
       "array([7, 1, 3, 2, 4, 6, 5, 8])"
      ]
     },
     "execution_count": 77,
     "metadata": {},
     "output_type": "execute_result"
    }
   ],
   "source": [
    "df['signup_date_month'].unique()"
   ]
  },
  {
   "cell_type": "code",
   "execution_count": 78,
   "metadata": {},
   "outputs": [
    {
     "data": {
      "text/plain": [
       "array(['14', '4', '12', '10', '20', '16', '17', '13', '21', '11', '5',\n",
       "       '1', '7', '6', '18', '0', '3', '2', '23', '22', '15', '8', '9',\n",
       "       '19'], dtype=object)"
      ]
     },
     "execution_count": 78,
     "metadata": {},
     "output_type": "execute_result"
    }
   ],
   "source": [
    "df['purchase_date_hour'] = df['purchase_time'].apply(lambda x: x.split(' ')[1].strip())\n",
    "\n",
    "df['purchase_date_hour'] = df['purchase_date_hour'].apply(lambda x: x.split(':')[0].strip())\n",
    "\n",
    "df['purchase_date_hour'].unique()"
   ]
  },
  {
   "cell_type": "code",
   "execution_count": 79,
   "metadata": {},
   "outputs": [],
   "source": [
    "df['purchase_date_hour'] = df['purchase_date_hour'].astype('int')"
   ]
  },
  {
   "cell_type": "code",
   "execution_count": 80,
   "metadata": {},
   "outputs": [
    {
     "data": {
      "text/plain": [
       "array([14,  4, 12, 10, 20, 16, 17, 13, 21, 11,  5,  1,  7,  6, 18,  0,  3,\n",
       "        2, 23, 22, 15,  8,  9, 19])"
      ]
     },
     "execution_count": 80,
     "metadata": {},
     "output_type": "execute_result"
    }
   ],
   "source": [
    "df['purchase_date_hour'].unique()"
   ]
  },
  {
   "cell_type": "code",
   "execution_count": 81,
   "metadata": {},
   "outputs": [
    {
     "data": {
      "text/plain": [
       "0         9/10/2015\n",
       "1         4/13/2015\n",
       "2          4/5/2015\n",
       "3          1/9/2015\n",
       "4          4/9/2015\n",
       "            ...    \n",
       "119995    4/16/2015\n",
       "119996    8/25/2015\n",
       "119997     9/3/2015\n",
       "119998    6/22/2015\n",
       "119999     9/3/2015\n",
       "Name: purchase_date, Length: 120000, dtype: object"
      ]
     },
     "execution_count": 81,
     "metadata": {},
     "output_type": "execute_result"
    }
   ],
   "source": [
    "df['purchase_date'] = df['purchase_time'].apply(lambda x: x.split(' ')[0].strip())\n",
    "\n",
    "df['purchase_date']"
   ]
  },
  {
   "cell_type": "code",
   "execution_count": 82,
   "metadata": {},
   "outputs": [],
   "source": [
    "df['purchase_date_month'] = df['purchase_date'].apply(lambda x: x.split('/')[0].strip())\n",
    "\n",
    "df['purchase_date_month'] = df['purchase_date_month'].astype('int')"
   ]
  },
  {
   "cell_type": "code",
   "execution_count": 83,
   "metadata": {},
   "outputs": [
    {
     "data": {
      "text/plain": [
       "array([ 9,  4,  1,  8,  6, 10,  7,  5,  3,  2, 12, 11])"
      ]
     },
     "execution_count": 83,
     "metadata": {},
     "output_type": "execute_result"
    }
   ],
   "source": [
    "df['purchase_date_month'].unique()"
   ]
  },
  {
   "cell_type": "code",
   "execution_count": 84,
   "metadata": {},
   "outputs": [
    {
     "data": {
      "text/plain": [
       "array([10, 13,  5,  9,  3, 30, 25, 20, 12,  2, 19, 24, 26,  4, 28, 15, 16,\n",
       "       27,  6, 14, 23, 21, 22, 31,  8,  7, 11, 18, 29, 17,  1])"
      ]
     },
     "execution_count": 84,
     "metadata": {},
     "output_type": "execute_result"
    }
   ],
   "source": [
    "df['purchase_date_day'] = df['purchase_date'].apply(lambda x: x.split('/')[1].strip())\n",
    "\n",
    "df['purchase_date_day'] = df['purchase_date_day'].astype('int')\n",
    "\n",
    "df['purchase_date_day'].unique()"
   ]
  },
  {
   "cell_type": "markdown",
   "metadata": {},
   "source": [
    "Now I don't need _signup_time_ and _purchase_time_ in the dataset anymore\n",
    "\n",
    "Also since there is just data from one unique year (2015), I'm gonna delete the respective columns"
   ]
  },
  {
   "cell_type": "code",
   "execution_count": 85,
   "metadata": {},
   "outputs": [],
   "source": [
    "df.drop('signup_time',axis=1,inplace=True)"
   ]
  },
  {
   "cell_type": "code",
   "execution_count": 86,
   "metadata": {},
   "outputs": [],
   "source": [
    "df.drop('purchase_time',axis=1,inplace=True)"
   ]
  },
  {
   "cell_type": "code",
   "execution_count": 87,
   "metadata": {},
   "outputs": [],
   "source": [
    "df.drop('signup_date',axis=1,inplace=True)"
   ]
  },
  {
   "cell_type": "code",
   "execution_count": 88,
   "metadata": {},
   "outputs": [],
   "source": [
    "df.drop('purchase_date',axis=1,inplace=True)"
   ]
  },
  {
   "cell_type": "code",
   "execution_count": 89,
   "metadata": {
    "scrolled": true
   },
   "outputs": [
    {
     "data": {
      "text/html": [
       "<div>\n",
       "<style scoped>\n",
       "    .dataframe tbody tr th:only-of-type {\n",
       "        vertical-align: middle;\n",
       "    }\n",
       "\n",
       "    .dataframe tbody tr th {\n",
       "        vertical-align: top;\n",
       "    }\n",
       "\n",
       "    .dataframe thead th {\n",
       "        text-align: right;\n",
       "    }\n",
       "</style>\n",
       "<table border=\"1\" class=\"dataframe\">\n",
       "  <thead>\n",
       "    <tr style=\"text-align: right;\">\n",
       "      <th></th>\n",
       "      <th>purchase_value</th>\n",
       "      <th>source</th>\n",
       "      <th>browser</th>\n",
       "      <th>sex</th>\n",
       "      <th>age</th>\n",
       "      <th>ip_address</th>\n",
       "      <th>class</th>\n",
       "      <th>signup_date_hour</th>\n",
       "      <th>signup_date_day</th>\n",
       "      <th>signup_date_month</th>\n",
       "      <th>purchase_date_hour</th>\n",
       "      <th>purchase_date_month</th>\n",
       "      <th>purchase_date_day</th>\n",
       "    </tr>\n",
       "  </thead>\n",
       "  <tbody>\n",
       "    <tr>\n",
       "      <th>0</th>\n",
       "      <td>31</td>\n",
       "      <td>Direct</td>\n",
       "      <td>Chrome</td>\n",
       "      <td>M</td>\n",
       "      <td>49</td>\n",
       "      <td>2.818400e+09</td>\n",
       "      <td>0</td>\n",
       "      <td>4</td>\n",
       "      <td>15</td>\n",
       "      <td>7</td>\n",
       "      <td>14</td>\n",
       "      <td>9</td>\n",
       "      <td>10</td>\n",
       "    </tr>\n",
       "    <tr>\n",
       "      <th>1</th>\n",
       "      <td>31</td>\n",
       "      <td>SEO</td>\n",
       "      <td>IE</td>\n",
       "      <td>F</td>\n",
       "      <td>21</td>\n",
       "      <td>3.251268e+09</td>\n",
       "      <td>0</td>\n",
       "      <td>12</td>\n",
       "      <td>24</td>\n",
       "      <td>1</td>\n",
       "      <td>4</td>\n",
       "      <td>4</td>\n",
       "      <td>13</td>\n",
       "    </tr>\n",
       "    <tr>\n",
       "      <th>2</th>\n",
       "      <td>16</td>\n",
       "      <td>Direct</td>\n",
       "      <td>IE</td>\n",
       "      <td>M</td>\n",
       "      <td>26</td>\n",
       "      <td>2.727760e+09</td>\n",
       "      <td>0</td>\n",
       "      <td>0</td>\n",
       "      <td>11</td>\n",
       "      <td>3</td>\n",
       "      <td>12</td>\n",
       "      <td>4</td>\n",
       "      <td>5</td>\n",
       "    </tr>\n",
       "  </tbody>\n",
       "</table>\n",
       "</div>"
      ],
      "text/plain": [
       "   purchase_value  source browser sex  age    ip_address  class  \\\n",
       "0              31  Direct  Chrome   M   49  2.818400e+09      0   \n",
       "1              31     SEO      IE   F   21  3.251268e+09      0   \n",
       "2              16  Direct      IE   M   26  2.727760e+09      0   \n",
       "\n",
       "   signup_date_hour  signup_date_day  signup_date_month  purchase_date_hour  \\\n",
       "0                 4               15                  7                  14   \n",
       "1                12               24                  1                   4   \n",
       "2                 0               11                  3                  12   \n",
       "\n",
       "   purchase_date_month  purchase_date_day  \n",
       "0                    9                 10  \n",
       "1                    4                 13  \n",
       "2                    4                  5  "
      ]
     },
     "execution_count": 89,
     "metadata": {},
     "output_type": "execute_result"
    }
   ],
   "source": [
    "df.head(3)"
   ]
  },
  {
   "cell_type": "code",
   "execution_count": 90,
   "metadata": {},
   "outputs": [
    {
     "data": {
      "text/plain": [
       "0         0\n",
       "1         0\n",
       "2         0\n",
       "3         0\n",
       "4         0\n",
       "         ..\n",
       "119995    0\n",
       "119996    0\n",
       "119997    0\n",
       "119998    0\n",
       "119999    0\n",
       "Name: class, Length: 120000, dtype: int64"
      ]
     },
     "execution_count": 90,
     "metadata": {},
     "output_type": "execute_result"
    }
   ],
   "source": [
    "clas = df['class']\n",
    "\n",
    "clas"
   ]
  },
  {
   "cell_type": "code",
   "execution_count": 91,
   "metadata": {},
   "outputs": [],
   "source": [
    "df.drop('class',axis=1,inplace=True)"
   ]
  },
  {
   "cell_type": "code",
   "execution_count": 92,
   "metadata": {},
   "outputs": [],
   "source": [
    "df['class'] = clas"
   ]
  },
  {
   "cell_type": "code",
   "execution_count": 93,
   "metadata": {
    "scrolled": true
   },
   "outputs": [
    {
     "name": "stdout",
     "output_type": "stream",
     "text": [
      "<class 'pandas.core.frame.DataFrame'>\n",
      "RangeIndex: 120000 entries, 0 to 119999\n",
      "Data columns (total 13 columns):\n",
      " #   Column               Non-Null Count   Dtype  \n",
      "---  ------               --------------   -----  \n",
      " 0   purchase_value       120000 non-null  int64  \n",
      " 1   source               120000 non-null  object \n",
      " 2   browser              120000 non-null  object \n",
      " 3   sex                  120000 non-null  object \n",
      " 4   age                  120000 non-null  int64  \n",
      " 5   ip_address           120000 non-null  float64\n",
      " 6   signup_date_hour     120000 non-null  int32  \n",
      " 7   signup_date_day      120000 non-null  int32  \n",
      " 8   signup_date_month    120000 non-null  int32  \n",
      " 9   purchase_date_hour   120000 non-null  int32  \n",
      " 10  purchase_date_month  120000 non-null  int32  \n",
      " 11  purchase_date_day    120000 non-null  int32  \n",
      " 12  class                120000 non-null  int64  \n",
      "dtypes: float64(1), int32(6), int64(3), object(3)\n",
      "memory usage: 9.2+ MB\n"
     ]
    }
   ],
   "source": [
    "df.info()"
   ]
  },
  {
   "cell_type": "code",
   "execution_count": 94,
   "metadata": {},
   "outputs": [],
   "source": [
    "X, y = df.drop('class',axis=1), df['class']"
   ]
  },
  {
   "cell_type": "code",
   "execution_count": 95,
   "metadata": {},
   "outputs": [],
   "source": [
    "X_train, X_test, y_train, y_test = train_test_split(X,y,test_size=0.3,random_state=142)"
   ]
  },
  {
   "cell_type": "code",
   "execution_count": 96,
   "metadata": {},
   "outputs": [],
   "source": [
    "smote = SMOTE()"
   ]
  },
  {
   "cell_type": "code",
   "execution_count": 97,
   "metadata": {},
   "outputs": [],
   "source": [
    "float_df = X_train.select_dtypes('float')"
   ]
  },
  {
   "cell_type": "code",
   "execution_count": 98,
   "metadata": {},
   "outputs": [],
   "source": [
    "int_df = X_train.select_dtypes('int')"
   ]
  },
  {
   "cell_type": "code",
   "execution_count": 99,
   "metadata": {},
   "outputs": [],
   "source": [
    "joint = float_df.join(int_df)\n",
    "X_train_smote, y_train_smote = smote.fit_resample(joint,y_train)"
   ]
  },
  {
   "cell_type": "code",
   "execution_count": 100,
   "metadata": {
    "scrolled": true
   },
   "outputs": [
    {
     "name": "stdout",
     "output_type": "stream",
     "text": [
      "Before SMOTE:  Counter({0: 76211, 1: 7789})\n",
      "After SMOTE:  Counter({0: 76211, 1: 76211})\n"
     ]
    }
   ],
   "source": [
    "print('Before SMOTE: ', Counter(y_train))\n",
    "print('After SMOTE: ',  Counter(y_train_smote))"
   ]
  },
  {
   "cell_type": "code",
   "execution_count": 101,
   "metadata": {},
   "outputs": [
    {
     "data": {
      "text/plain": [
       "((152422, 9), (84000, 12))"
      ]
     },
     "execution_count": 101,
     "metadata": {},
     "output_type": "execute_result"
    }
   ],
   "source": [
    "X_train_smote.shape, X_train.shape"
   ]
  },
  {
   "cell_type": "code",
   "execution_count": 102,
   "metadata": {},
   "outputs": [],
   "source": [
    "X_train, X_test, y_train, y_test = train_test_split(X_train_smote,y_train_smote,test_size=0.3,random_state=142)"
   ]
  },
  {
   "cell_type": "code",
   "execution_count": 103,
   "metadata": {},
   "outputs": [],
   "source": [
    "cat_features = np.where(X.dtypes == object)[0]"
   ]
  },
  {
   "cell_type": "code",
   "execution_count": 106,
   "metadata": {},
   "outputs": [],
   "source": [
    "model = CatBoostClassifier(\n",
    "    iterations=50,\n",
    "     depth=3,\n",
    "    learning_rate = 0.1,\n",
    "    loss_function='CrossEntropy')"
   ]
  },
  {
   "cell_type": "code",
   "execution_count": 107,
   "metadata": {},
   "outputs": [
    {
     "name": "stdout",
     "output_type": "stream",
     "text": [
      "0:\tlearn: 0.6559920\ttest: 0.6561185\tbest: 0.6561185 (0)\ttotal: 198ms\tremaining: 9.72s\n",
      "1:\tlearn: 0.6256389\ttest: 0.6257900\tbest: 0.6257900 (1)\ttotal: 226ms\tremaining: 5.43s\n",
      "2:\tlearn: 0.6003635\ttest: 0.6006430\tbest: 0.6006430 (2)\ttotal: 256ms\tremaining: 4.02s\n",
      "3:\tlearn: 0.5789242\ttest: 0.5793545\tbest: 0.5793545 (3)\ttotal: 292ms\tremaining: 3.36s\n",
      "4:\tlearn: 0.5607034\ttest: 0.5611837\tbest: 0.5611837 (4)\ttotal: 327ms\tremaining: 2.94s\n",
      "5:\tlearn: 0.5441521\ttest: 0.5446453\tbest: 0.5446453 (5)\ttotal: 360ms\tremaining: 2.64s\n",
      "6:\tlearn: 0.5302890\ttest: 0.5308437\tbest: 0.5308437 (6)\ttotal: 394ms\tremaining: 2.42s\n",
      "7:\tlearn: 0.5185047\ttest: 0.5189931\tbest: 0.5189931 (7)\ttotal: 431ms\tremaining: 2.26s\n",
      "8:\tlearn: 0.5082531\ttest: 0.5087905\tbest: 0.5087905 (8)\ttotal: 465ms\tremaining: 2.12s\n",
      "9:\tlearn: 0.4990424\ttest: 0.4996039\tbest: 0.4996039 (9)\ttotal: 498ms\tremaining: 1.99s\n",
      "10:\tlearn: 0.4910840\ttest: 0.4916807\tbest: 0.4916807 (10)\ttotal: 532ms\tremaining: 1.89s\n",
      "11:\tlearn: 0.4842065\ttest: 0.4846508\tbest: 0.4846508 (11)\ttotal: 565ms\tremaining: 1.79s\n",
      "12:\tlearn: 0.4780685\ttest: 0.4785209\tbest: 0.4785209 (12)\ttotal: 599ms\tremaining: 1.7s\n",
      "13:\tlearn: 0.4724813\ttest: 0.4728980\tbest: 0.4728980 (13)\ttotal: 632ms\tremaining: 1.63s\n",
      "14:\tlearn: 0.4676773\ttest: 0.4679556\tbest: 0.4679556 (14)\ttotal: 665ms\tremaining: 1.55s\n",
      "15:\tlearn: 0.4624352\ttest: 0.4628044\tbest: 0.4628044 (15)\ttotal: 702ms\tremaining: 1.49s\n",
      "16:\tlearn: 0.4578415\ttest: 0.4583234\tbest: 0.4583234 (16)\ttotal: 735ms\tremaining: 1.43s\n",
      "17:\tlearn: 0.4540125\ttest: 0.4546287\tbest: 0.4546287 (17)\ttotal: 767ms\tremaining: 1.36s\n",
      "18:\tlearn: 0.4512164\ttest: 0.4517952\tbest: 0.4517952 (18)\ttotal: 801ms\tremaining: 1.31s\n",
      "19:\tlearn: 0.4480042\ttest: 0.4486224\tbest: 0.4486224 (19)\ttotal: 833ms\tremaining: 1.25s\n",
      "20:\tlearn: 0.4447936\ttest: 0.4455307\tbest: 0.4455307 (20)\ttotal: 866ms\tremaining: 1.2s\n",
      "21:\tlearn: 0.4425363\ttest: 0.4432806\tbest: 0.4432806 (21)\ttotal: 898ms\tremaining: 1.14s\n",
      "22:\tlearn: 0.4401015\ttest: 0.4408797\tbest: 0.4408797 (22)\ttotal: 931ms\tremaining: 1.09s\n",
      "23:\tlearn: 0.4382991\ttest: 0.4391359\tbest: 0.4391359 (23)\ttotal: 965ms\tremaining: 1.04s\n",
      "24:\tlearn: 0.4367291\ttest: 0.4376082\tbest: 0.4376082 (24)\ttotal: 999ms\tremaining: 999ms\n",
      "25:\tlearn: 0.4342340\ttest: 0.4352325\tbest: 0.4352325 (25)\ttotal: 1.03s\tremaining: 955ms\n",
      "26:\tlearn: 0.4328153\ttest: 0.4338076\tbest: 0.4338076 (26)\ttotal: 1.07s\tremaining: 909ms\n",
      "27:\tlearn: 0.4317259\ttest: 0.4327813\tbest: 0.4327813 (27)\ttotal: 1.1s\tremaining: 864ms\n",
      "28:\tlearn: 0.4298089\ttest: 0.4308552\tbest: 0.4308552 (28)\ttotal: 1.13s\tremaining: 820ms\n",
      "29:\tlearn: 0.4275104\ttest: 0.4286693\tbest: 0.4286693 (29)\ttotal: 1.17s\tremaining: 780ms\n",
      "30:\tlearn: 0.4259241\ttest: 0.4271186\tbest: 0.4271186 (30)\ttotal: 1.2s\tremaining: 738ms\n",
      "31:\tlearn: 0.4245020\ttest: 0.4257334\tbest: 0.4257334 (31)\ttotal: 1.24s\tremaining: 696ms\n",
      "32:\tlearn: 0.4234737\ttest: 0.4246710\tbest: 0.4246710 (32)\ttotal: 1.27s\tremaining: 655ms\n",
      "33:\tlearn: 0.4223058\ttest: 0.4234977\tbest: 0.4234977 (33)\ttotal: 1.3s\tremaining: 615ms\n",
      "34:\tlearn: 0.4212914\ttest: 0.4225432\tbest: 0.4225432 (34)\ttotal: 1.34s\tremaining: 575ms\n",
      "35:\tlearn: 0.4203769\ttest: 0.4216458\tbest: 0.4216458 (35)\ttotal: 1.38s\tremaining: 536ms\n",
      "36:\tlearn: 0.4195223\ttest: 0.4207823\tbest: 0.4207823 (36)\ttotal: 1.41s\tremaining: 496ms\n",
      "37:\tlearn: 0.4187398\ttest: 0.4200232\tbest: 0.4200232 (37)\ttotal: 1.45s\tremaining: 457ms\n",
      "38:\tlearn: 0.4178417\ttest: 0.4191269\tbest: 0.4191269 (38)\ttotal: 1.48s\tremaining: 417ms\n",
      "39:\tlearn: 0.4172045\ttest: 0.4184504\tbest: 0.4184504 (39)\ttotal: 1.51s\tremaining: 378ms\n",
      "40:\tlearn: 0.4162681\ttest: 0.4175287\tbest: 0.4175287 (40)\ttotal: 1.54s\tremaining: 339ms\n",
      "41:\tlearn: 0.4154085\ttest: 0.4166860\tbest: 0.4166860 (41)\ttotal: 1.58s\tremaining: 301ms\n",
      "42:\tlearn: 0.4137813\ttest: 0.4151261\tbest: 0.4151261 (42)\ttotal: 1.62s\tremaining: 263ms\n",
      "43:\tlearn: 0.4128808\ttest: 0.4142362\tbest: 0.4142362 (43)\ttotal: 1.65s\tremaining: 225ms\n",
      "44:\tlearn: 0.4122523\ttest: 0.4136151\tbest: 0.4136151 (44)\ttotal: 1.68s\tremaining: 187ms\n",
      "45:\tlearn: 0.4116594\ttest: 0.4130903\tbest: 0.4130903 (45)\ttotal: 1.71s\tremaining: 149ms\n",
      "46:\tlearn: 0.4111506\ttest: 0.4126440\tbest: 0.4126440 (46)\ttotal: 1.74s\tremaining: 111ms\n",
      "47:\tlearn: 0.4105821\ttest: 0.4120637\tbest: 0.4120637 (47)\ttotal: 1.77s\tremaining: 74ms\n",
      "48:\tlearn: 0.4098393\ttest: 0.4112916\tbest: 0.4112916 (48)\ttotal: 1.8s\tremaining: 36.8ms\n",
      "49:\tlearn: 0.4090908\ttest: 0.4105206\tbest: 0.4105206 (49)\ttotal: 1.84s\tremaining: 0us\n",
      "\n",
      "bestTest = 0.4105206311\n",
      "bestIteration = 49\n",
      "\n"
     ]
    },
    {
     "data": {
      "text/plain": [
       "<catboost.core.CatBoostClassifier at 0x2a8a8d738e0>"
      ]
     },
     "execution_count": 107,
     "metadata": {},
     "output_type": "execute_result"
    }
   ],
   "source": [
    "model.fit(X_train,y_train,cat_features=cat_features,eval_set=(X_test,y_test))"
   ]
  },
  {
   "cell_type": "code",
   "execution_count": 108,
   "metadata": {},
   "outputs": [],
   "source": [
    "y_pred = model.predict(X_test)"
   ]
  },
  {
   "cell_type": "markdown",
   "metadata": {},
   "source": [
    "__Prediction avaluations:__\n",
    "- Accuracy\n",
    "- Confusion Matrix\n",
    "- Classification Report"
   ]
  },
  {
   "cell_type": "markdown",
   "metadata": {},
   "source": [
    "__PS: Now I can use accuracy because classes are balanced__"
   ]
  },
  {
   "cell_type": "code",
   "execution_count": 109,
   "metadata": {},
   "outputs": [
    {
     "data": {
      "text/plain": [
       "0.7983029719859164"
      ]
     },
     "execution_count": 109,
     "metadata": {},
     "output_type": "execute_result"
    }
   ],
   "source": [
    "accuracy_score(y_pred,y_test)"
   ]
  },
  {
   "cell_type": "markdown",
   "metadata": {},
   "source": [
    "Good result since now its a reliable metric we can trust"
   ]
  },
  {
   "cell_type": "code",
   "execution_count": 110,
   "metadata": {
    "scrolled": false
   },
   "outputs": [
    {
     "name": "stdout",
     "output_type": "stream",
     "text": [
      "Classification report: \n",
      "               precision    recall  f1-score   support\n",
      "\n",
      "           0       0.73      0.94      0.82     23103\n",
      "           1       0.91      0.65      0.76     22624\n",
      "\n",
      "    accuracy                           0.80     45727\n",
      "   macro avg       0.82      0.80      0.79     45727\n",
      "weighted avg       0.82      0.80      0.79     45727\n",
      "\n"
     ]
    }
   ],
   "source": [
    "print('Classification report: \\n', classification_report(y_test,y_pred))"
   ]
  },
  {
   "cell_type": "code",
   "execution_count": 111,
   "metadata": {},
   "outputs": [
    {
     "data": {
      "text/plain": [
       "array([[21711,  1392],\n",
       "       [ 7831, 14793]], dtype=int64)"
      ]
     },
     "execution_count": 111,
     "metadata": {},
     "output_type": "execute_result"
    }
   ],
   "source": [
    "cf_matrix = confusion_matrix(y_test,y_pred)\n",
    "\n",
    "confusion_matrix(y_test,y_pred)"
   ]
  },
  {
   "cell_type": "code",
   "execution_count": 112,
   "metadata": {
    "scrolled": false
   },
   "outputs": [
    {
     "data": {
      "image/png": "[encoded data removed]",
      "text/plain": [
       "<Figure size 432x288 with 2 Axes>"
      ]
     },
     "metadata": {
      "needs_background": "light"
     },
     "output_type": "display_data"
    }
   ],
   "source": [
    "sns.heatmap(cf_matrix, annot=True);"
   ]
  },
  {
   "cell_type": "markdown",
   "metadata": {},
   "source": [
    "__Conclusions:__ \n",
    "\n",
    "- By trying the CatBoost model it was possible to increase the number of true falses but all the other predictions got much worse\n",
    "\n",
    "- CatBoost underperformed XGboost"
   ]
  },
  {
   "cell_type": "markdown",
   "metadata": {},
   "source": [
    "I don't have anymore time to work on this test"
   ]
  },
  {
   "cell_type": "markdown",
   "metadata": {},
   "source": [
    "__Further tasks for improvement:__\n",
    "\n",
    "- Try gridsearch for hyperparameters tunning\n",
    "\n",
    "- Use learning curves and then use PCA to reduce features to perform better computationally"
   ]
  },
  {
   "cell_type": "code",
   "execution_count": null,
   "metadata": {},
   "outputs": [],
   "source": []
  },
  {
   "cell_type": "code",
   "execution_count": null,
   "metadata": {},
   "outputs": [],
   "source": []
  }
 ],
 "metadata": {
  "kernelspec": {
   "display_name": "Python 3",
   "language": "python",
   "name": "python3"
  },
  "language_info": {
   "codemirror_mode": {
    "name": "ipython",
    "version": 3
   },
   "file_extension": ".py",
   "mimetype": "text/x-python",
   "name": "python",
   "nbconvert_exporter": "python",
   "pygments_lexer": "ipython3",
   "version": "3.8.5"
  },
  "latex_envs": {
   "LaTeX_envs_menu_present": true,
   "autoclose": false,
   "autocomplete": true,
   "bibliofile": "biblio.bib",
   "cite_by": "apalike",
   "current_citInitial": 1,
   "eqLabelWithNumbers": true,
   "eqNumInitial": 1,
   "hotkeys": {
    "equation": "Ctrl-E",
    "itemize": "Ctrl-I"
   },
   "labels_anchors": false,
   "latex_user_defs": false,
   "report_style_numbering": false,
   "user_envs_cfg": false
  }
 },
 "nbformat": 4,
 "nbformat_minor": 4
}
